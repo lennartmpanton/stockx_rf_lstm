{
 "cells": [
  {
   "cell_type": "code",
   "execution_count": 1,
   "metadata": {
    "ExecuteTime": {
     "end_time": "2021-03-11T11:09:16.196854Z",
     "start_time": "2021-03-11T11:09:11.307794Z"
    }
   },
   "outputs": [],
   "source": [
    "import numpy as np\n",
    "import matplotlib.pyplot as plt\n",
    "import pandas as pd\n",
    "import seaborn as sns\n",
    "import re\n",
    "\n",
    "from sklearn.ensemble import RandomForestRegressor\n",
    "from sklearn.ensemble import GradientBoostingRegressor\n",
    "from sklearn.linear_model import LinearRegression\n",
    "from sklearn.linear_model import Lasso\n",
    "from sklearn.linear_model import Ridge\n",
    "from sklearn.metrics import mean_squared_error\n",
    "from sklearn.metrics import r2_score\n",
    "from sklearn.model_selection import GridSearchCV\n",
    "from sklearn.model_selection import train_test_split\n",
    "from sklearn.neighbors import KNeighborsRegressor\n",
    "from sklearn.svm import SVR\n",
    "from sklearn.tree import DecisionTreeRegressor\n",
    "from tqdm import tqdm\n",
    "from subprocess import check_output\n",
    "from tensorflow.keras.layers import Dense, Activation, Dropout\n",
    "from tensorflow.keras.layers import LSTM, GRU\n",
    "from tensorflow.keras.models import Sequential\n",
    "%matplotlib inline"
   ]
  },
  {
   "cell_type": "markdown",
   "metadata": {},
   "source": [
    "# Predicting Resell Value of Sneakers"
   ]
  },
  {
   "cell_type": "markdown",
   "metadata": {},
   "source": [
    "When you hear about investments, the things that comes up to mind are stocks, VUL, mutual fund, and others. But do you know that you can invest on sneakers (Nike, Adidas, etc)? Last year, this market currently has a value of more than two billion dollars.\n",
    "\n",
    "To demonstrate, last 2017, Nike, in collaboration with Off-White, released a sneaker that was sold for Php. 8100, and was valued at around 70,000 php on the sneaker market. You would think that this would be a bad thing to buy, but currently, that same sneaker is valued at around Php 250,000. \n",
    "\n",
    "First and foremost, this <a href=\"https://s3.amazonaws.com/stockx-sneaker-analysis/wp-content/uploads/2019/02/StockX-Data-Contest-2019-3.xlsx\">data</a> is from StockX, one of the biggest sneaker reselling companies in the world. Last 2019, they had a Data Contest. They picked random datapoints for all US Off-White x Nike and Yeezy sales between 9/1/2017 and 2/13/2019.\n",
    "\n",
    "In this study, I will predict the resell value of the sneakers using the data that they released."
   ]
  },
  {
   "cell_type": "markdown",
   "metadata": {},
   "source": [
    "# Initialization"
   ]
  },
  {
   "cell_type": "code",
   "execution_count": 2,
   "metadata": {
    "ExecuteTime": {
     "end_time": "2021-03-11T11:09:26.528716Z",
     "start_time": "2021-03-11T11:09:16.199086Z"
    }
   },
   "outputs": [
    {
     "data": {
      "text/html": [
       "<div>\n",
       "<style scoped>\n",
       "    .dataframe tbody tr th:only-of-type {\n",
       "        vertical-align: middle;\n",
       "    }\n",
       "\n",
       "    .dataframe tbody tr th {\n",
       "        vertical-align: top;\n",
       "    }\n",
       "\n",
       "    .dataframe thead th {\n",
       "        text-align: right;\n",
       "    }\n",
       "</style>\n",
       "<table border=\"1\" class=\"dataframe\">\n",
       "  <thead>\n",
       "    <tr style=\"text-align: right;\">\n",
       "      <th></th>\n",
       "      <th>Sale Price</th>\n",
       "      <th>Retail Price</th>\n",
       "      <th>DaysStored</th>\n",
       "      <th>Brand_ Yeezy</th>\n",
       "      <th>Brand_Off-White</th>\n",
       "      <th>Sneaker Name_Adidas-Yeezy-Boost-350-Low-Moonrock</th>\n",
       "      <th>Sneaker Name_Adidas-Yeezy-Boost-350-Low-Oxford-Tan</th>\n",
       "      <th>Sneaker Name_Adidas-Yeezy-Boost-350-Low-Pirate-Black-2015</th>\n",
       "      <th>Sneaker Name_Adidas-Yeezy-Boost-350-Low-Pirate-Black-2016</th>\n",
       "      <th>Sneaker Name_Adidas-Yeezy-Boost-350-Low-Turtledove</th>\n",
       "      <th>...</th>\n",
       "      <th>Shoe Size_11.5</th>\n",
       "      <th>Shoe Size_12.0</th>\n",
       "      <th>Shoe Size_12.5</th>\n",
       "      <th>Shoe Size_13.0</th>\n",
       "      <th>Shoe Size_13.5</th>\n",
       "      <th>Shoe Size_14.0</th>\n",
       "      <th>Shoe Size_14.5</th>\n",
       "      <th>Shoe Size_15.0</th>\n",
       "      <th>Shoe Size_16.0</th>\n",
       "      <th>Shoe Size_17.0</th>\n",
       "    </tr>\n",
       "  </thead>\n",
       "  <tbody>\n",
       "    <tr>\n",
       "      <th>0</th>\n",
       "      <td>1097.0</td>\n",
       "      <td>220</td>\n",
       "      <td>342</td>\n",
       "      <td>1</td>\n",
       "      <td>0</td>\n",
       "      <td>0</td>\n",
       "      <td>0</td>\n",
       "      <td>0</td>\n",
       "      <td>0</td>\n",
       "      <td>0</td>\n",
       "      <td>...</td>\n",
       "      <td>0</td>\n",
       "      <td>0</td>\n",
       "      <td>0</td>\n",
       "      <td>0</td>\n",
       "      <td>0</td>\n",
       "      <td>0</td>\n",
       "      <td>0</td>\n",
       "      <td>0</td>\n",
       "      <td>0</td>\n",
       "      <td>0</td>\n",
       "    </tr>\n",
       "    <tr>\n",
       "      <th>1</th>\n",
       "      <td>685.0</td>\n",
       "      <td>220</td>\n",
       "      <td>282</td>\n",
       "      <td>1</td>\n",
       "      <td>0</td>\n",
       "      <td>0</td>\n",
       "      <td>0</td>\n",
       "      <td>0</td>\n",
       "      <td>0</td>\n",
       "      <td>0</td>\n",
       "      <td>...</td>\n",
       "      <td>0</td>\n",
       "      <td>0</td>\n",
       "      <td>0</td>\n",
       "      <td>0</td>\n",
       "      <td>0</td>\n",
       "      <td>0</td>\n",
       "      <td>0</td>\n",
       "      <td>0</td>\n",
       "      <td>0</td>\n",
       "      <td>0</td>\n",
       "    </tr>\n",
       "    <tr>\n",
       "      <th>2</th>\n",
       "      <td>690.0</td>\n",
       "      <td>220</td>\n",
       "      <td>282</td>\n",
       "      <td>1</td>\n",
       "      <td>0</td>\n",
       "      <td>0</td>\n",
       "      <td>0</td>\n",
       "      <td>0</td>\n",
       "      <td>0</td>\n",
       "      <td>0</td>\n",
       "      <td>...</td>\n",
       "      <td>0</td>\n",
       "      <td>0</td>\n",
       "      <td>0</td>\n",
       "      <td>0</td>\n",
       "      <td>0</td>\n",
       "      <td>0</td>\n",
       "      <td>0</td>\n",
       "      <td>0</td>\n",
       "      <td>0</td>\n",
       "      <td>0</td>\n",
       "    </tr>\n",
       "    <tr>\n",
       "      <th>3</th>\n",
       "      <td>1075.0</td>\n",
       "      <td>220</td>\n",
       "      <td>282</td>\n",
       "      <td>1</td>\n",
       "      <td>0</td>\n",
       "      <td>0</td>\n",
       "      <td>0</td>\n",
       "      <td>0</td>\n",
       "      <td>0</td>\n",
       "      <td>0</td>\n",
       "      <td>...</td>\n",
       "      <td>1</td>\n",
       "      <td>0</td>\n",
       "      <td>0</td>\n",
       "      <td>0</td>\n",
       "      <td>0</td>\n",
       "      <td>0</td>\n",
       "      <td>0</td>\n",
       "      <td>0</td>\n",
       "      <td>0</td>\n",
       "      <td>0</td>\n",
       "    </tr>\n",
       "    <tr>\n",
       "      <th>4</th>\n",
       "      <td>828.0</td>\n",
       "      <td>220</td>\n",
       "      <td>202</td>\n",
       "      <td>1</td>\n",
       "      <td>0</td>\n",
       "      <td>0</td>\n",
       "      <td>0</td>\n",
       "      <td>0</td>\n",
       "      <td>0</td>\n",
       "      <td>0</td>\n",
       "      <td>...</td>\n",
       "      <td>0</td>\n",
       "      <td>0</td>\n",
       "      <td>0</td>\n",
       "      <td>0</td>\n",
       "      <td>0</td>\n",
       "      <td>0</td>\n",
       "      <td>0</td>\n",
       "      <td>0</td>\n",
       "      <td>0</td>\n",
       "      <td>0</td>\n",
       "    </tr>\n",
       "    <tr>\n",
       "      <th>...</th>\n",
       "      <td>...</td>\n",
       "      <td>...</td>\n",
       "      <td>...</td>\n",
       "      <td>...</td>\n",
       "      <td>...</td>\n",
       "      <td>...</td>\n",
       "      <td>...</td>\n",
       "      <td>...</td>\n",
       "      <td>...</td>\n",
       "      <td>...</td>\n",
       "      <td>...</td>\n",
       "      <td>...</td>\n",
       "      <td>...</td>\n",
       "      <td>...</td>\n",
       "      <td>...</td>\n",
       "      <td>...</td>\n",
       "      <td>...</td>\n",
       "      <td>...</td>\n",
       "      <td>...</td>\n",
       "      <td>...</td>\n",
       "      <td>...</td>\n",
       "    </tr>\n",
       "    <tr>\n",
       "      <th>99951</th>\n",
       "      <td>565.0</td>\n",
       "      <td>220</td>\n",
       "      <td>49</td>\n",
       "      <td>1</td>\n",
       "      <td>0</td>\n",
       "      <td>0</td>\n",
       "      <td>0</td>\n",
       "      <td>0</td>\n",
       "      <td>0</td>\n",
       "      <td>0</td>\n",
       "      <td>...</td>\n",
       "      <td>0</td>\n",
       "      <td>0</td>\n",
       "      <td>0</td>\n",
       "      <td>0</td>\n",
       "      <td>0</td>\n",
       "      <td>0</td>\n",
       "      <td>0</td>\n",
       "      <td>0</td>\n",
       "      <td>0</td>\n",
       "      <td>0</td>\n",
       "    </tr>\n",
       "    <tr>\n",
       "      <th>99952</th>\n",
       "      <td>598.0</td>\n",
       "      <td>220</td>\n",
       "      <td>49</td>\n",
       "      <td>1</td>\n",
       "      <td>0</td>\n",
       "      <td>0</td>\n",
       "      <td>0</td>\n",
       "      <td>0</td>\n",
       "      <td>0</td>\n",
       "      <td>0</td>\n",
       "      <td>...</td>\n",
       "      <td>0</td>\n",
       "      <td>0</td>\n",
       "      <td>0</td>\n",
       "      <td>0</td>\n",
       "      <td>0</td>\n",
       "      <td>0</td>\n",
       "      <td>0</td>\n",
       "      <td>0</td>\n",
       "      <td>0</td>\n",
       "      <td>0</td>\n",
       "    </tr>\n",
       "    <tr>\n",
       "      <th>99953</th>\n",
       "      <td>605.0</td>\n",
       "      <td>220</td>\n",
       "      <td>49</td>\n",
       "      <td>1</td>\n",
       "      <td>0</td>\n",
       "      <td>0</td>\n",
       "      <td>0</td>\n",
       "      <td>0</td>\n",
       "      <td>0</td>\n",
       "      <td>0</td>\n",
       "      <td>...</td>\n",
       "      <td>0</td>\n",
       "      <td>0</td>\n",
       "      <td>0</td>\n",
       "      <td>0</td>\n",
       "      <td>0</td>\n",
       "      <td>0</td>\n",
       "      <td>0</td>\n",
       "      <td>0</td>\n",
       "      <td>0</td>\n",
       "      <td>0</td>\n",
       "    </tr>\n",
       "    <tr>\n",
       "      <th>99954</th>\n",
       "      <td>650.0</td>\n",
       "      <td>220</td>\n",
       "      <td>49</td>\n",
       "      <td>1</td>\n",
       "      <td>0</td>\n",
       "      <td>0</td>\n",
       "      <td>0</td>\n",
       "      <td>0</td>\n",
       "      <td>0</td>\n",
       "      <td>0</td>\n",
       "      <td>...</td>\n",
       "      <td>0</td>\n",
       "      <td>0</td>\n",
       "      <td>0</td>\n",
       "      <td>0</td>\n",
       "      <td>0</td>\n",
       "      <td>0</td>\n",
       "      <td>0</td>\n",
       "      <td>0</td>\n",
       "      <td>0</td>\n",
       "      <td>0</td>\n",
       "    </tr>\n",
       "    <tr>\n",
       "      <th>99955</th>\n",
       "      <td>640.0</td>\n",
       "      <td>220</td>\n",
       "      <td>49</td>\n",
       "      <td>1</td>\n",
       "      <td>0</td>\n",
       "      <td>0</td>\n",
       "      <td>0</td>\n",
       "      <td>0</td>\n",
       "      <td>0</td>\n",
       "      <td>0</td>\n",
       "      <td>...</td>\n",
       "      <td>1</td>\n",
       "      <td>0</td>\n",
       "      <td>0</td>\n",
       "      <td>0</td>\n",
       "      <td>0</td>\n",
       "      <td>0</td>\n",
       "      <td>0</td>\n",
       "      <td>0</td>\n",
       "      <td>0</td>\n",
       "      <td>0</td>\n",
       "    </tr>\n",
       "  </tbody>\n",
       "</table>\n",
       "<p>99956 rows × 81 columns</p>\n",
       "</div>"
      ],
      "text/plain": [
       "       Sale Price  Retail Price  DaysStored  Brand_ Yeezy  Brand_Off-White  \\\n",
       "0          1097.0           220         342             1                0   \n",
       "1           685.0           220         282             1                0   \n",
       "2           690.0           220         282             1                0   \n",
       "3          1075.0           220         282             1                0   \n",
       "4           828.0           220         202             1                0   \n",
       "...           ...           ...         ...           ...              ...   \n",
       "99951       565.0           220          49             1                0   \n",
       "99952       598.0           220          49             1                0   \n",
       "99953       605.0           220          49             1                0   \n",
       "99954       650.0           220          49             1                0   \n",
       "99955       640.0           220          49             1                0   \n",
       "\n",
       "       Sneaker Name_Adidas-Yeezy-Boost-350-Low-Moonrock  \\\n",
       "0                                                     0   \n",
       "1                                                     0   \n",
       "2                                                     0   \n",
       "3                                                     0   \n",
       "4                                                     0   \n",
       "...                                                 ...   \n",
       "99951                                                 0   \n",
       "99952                                                 0   \n",
       "99953                                                 0   \n",
       "99954                                                 0   \n",
       "99955                                                 0   \n",
       "\n",
       "       Sneaker Name_Adidas-Yeezy-Boost-350-Low-Oxford-Tan  \\\n",
       "0                                                      0    \n",
       "1                                                      0    \n",
       "2                                                      0    \n",
       "3                                                      0    \n",
       "4                                                      0    \n",
       "...                                                  ...    \n",
       "99951                                                  0    \n",
       "99952                                                  0    \n",
       "99953                                                  0    \n",
       "99954                                                  0    \n",
       "99955                                                  0    \n",
       "\n",
       "       Sneaker Name_Adidas-Yeezy-Boost-350-Low-Pirate-Black-2015  \\\n",
       "0                                                      0           \n",
       "1                                                      0           \n",
       "2                                                      0           \n",
       "3                                                      0           \n",
       "4                                                      0           \n",
       "...                                                  ...           \n",
       "99951                                                  0           \n",
       "99952                                                  0           \n",
       "99953                                                  0           \n",
       "99954                                                  0           \n",
       "99955                                                  0           \n",
       "\n",
       "       Sneaker Name_Adidas-Yeezy-Boost-350-Low-Pirate-Black-2016  \\\n",
       "0                                                      0           \n",
       "1                                                      0           \n",
       "2                                                      0           \n",
       "3                                                      0           \n",
       "4                                                      0           \n",
       "...                                                  ...           \n",
       "99951                                                  0           \n",
       "99952                                                  0           \n",
       "99953                                                  0           \n",
       "99954                                                  0           \n",
       "99955                                                  0           \n",
       "\n",
       "       Sneaker Name_Adidas-Yeezy-Boost-350-Low-Turtledove  ...  \\\n",
       "0                                                      0   ...   \n",
       "1                                                      0   ...   \n",
       "2                                                      0   ...   \n",
       "3                                                      0   ...   \n",
       "4                                                      0   ...   \n",
       "...                                                  ...   ...   \n",
       "99951                                                  0   ...   \n",
       "99952                                                  0   ...   \n",
       "99953                                                  0   ...   \n",
       "99954                                                  0   ...   \n",
       "99955                                                  0   ...   \n",
       "\n",
       "       Shoe Size_11.5  Shoe Size_12.0  Shoe Size_12.5  Shoe Size_13.0  \\\n",
       "0                   0               0               0               0   \n",
       "1                   0               0               0               0   \n",
       "2                   0               0               0               0   \n",
       "3                   1               0               0               0   \n",
       "4                   0               0               0               0   \n",
       "...               ...             ...             ...             ...   \n",
       "99951               0               0               0               0   \n",
       "99952               0               0               0               0   \n",
       "99953               0               0               0               0   \n",
       "99954               0               0               0               0   \n",
       "99955               1               0               0               0   \n",
       "\n",
       "       Shoe Size_13.5  Shoe Size_14.0  Shoe Size_14.5  Shoe Size_15.0  \\\n",
       "0                   0               0               0               0   \n",
       "1                   0               0               0               0   \n",
       "2                   0               0               0               0   \n",
       "3                   0               0               0               0   \n",
       "4                   0               0               0               0   \n",
       "...               ...             ...             ...             ...   \n",
       "99951               0               0               0               0   \n",
       "99952               0               0               0               0   \n",
       "99953               0               0               0               0   \n",
       "99954               0               0               0               0   \n",
       "99955               0               0               0               0   \n",
       "\n",
       "       Shoe Size_16.0  Shoe Size_17.0  \n",
       "0                   0               0  \n",
       "1                   0               0  \n",
       "2                   0               0  \n",
       "3                   0               0  \n",
       "4                   0               0  \n",
       "...               ...             ...  \n",
       "99951               0               0  \n",
       "99952               0               0  \n",
       "99953               0               0  \n",
       "99954               0               0  \n",
       "99955               0               0  \n",
       "\n",
       "[99956 rows x 81 columns]"
      ]
     },
     "execution_count": 2,
     "metadata": {},
     "output_type": "execute_result"
    }
   ],
   "source": [
    "df3 = pd.read_excel('stockx.xlsx', sheet_name='Raw Data')\n",
    "df4 = df3.copy()\n",
    "df4 = df4[['Brand', 'Sneaker Name', 'Sale Price', 'Retail Price', 'Shoe Size',\n",
    "           'DaysStored']]\n",
    "df4 = pd.get_dummies(data=df4, columns=['Brand', 'Sneaker Name', 'Shoe Size'])\n",
    "df5 = df4.copy()\n",
    "\n",
    "\n",
    "df_feat1 = df4.drop(['Sale Price'], axis=1)\n",
    "df_targ1 = df4['Sale Price']\n",
    "\n",
    "features1 = df_feat1.to_numpy()\n",
    "targets1 = df_targ1.to_numpy()\n",
    "\n",
    "\n",
    "x, x_test, y, y_test = train_test_split(features1, targets1, test_size=0.1,\n",
    "                                        train_size=0.9, random_state=1)\n",
    "x_train, x_cv, y_train, y_cv = train_test_split(x, y,\n",
    "                                                test_size = 2/9,\n",
    "                                                train_size = 7/9,\n",
    "                                                random_state=1)\n",
    "df4"
   ]
  },
  {
   "cell_type": "markdown",
   "metadata": {},
   "source": [
    "For the data preprocessing, first, `DaysStored` was derived based on the sale date and the shoe release date. Then, categorical features were one hot encoded. Overall, there are 80 features and the target is the `Sale Price`."
   ]
  },
  {
   "cell_type": "markdown",
   "metadata": {},
   "source": [
    "Last ML1, Random Forest was the best model for price prediction."
   ]
  },
  {
   "cell_type": "code",
   "execution_count": 3,
   "metadata": {
    "ExecuteTime": {
     "end_time": "2021-03-11T11:10:02.500635Z",
     "start_time": "2021-03-11T11:09:26.531245Z"
    }
   },
   "outputs": [
    {
     "data": {
      "text/plain": [
       "RandomForestRegressor()"
      ]
     },
     "execution_count": 3,
     "metadata": {},
     "output_type": "execute_result"
    }
   ],
   "source": [
    "RF = RandomForestRegressor()\n",
    "RF.fit(x_train, y_train)\n"
   ]
  },
  {
   "cell_type": "code",
   "execution_count": 4,
   "metadata": {
    "ExecuteTime": {
     "end_time": "2021-03-11T11:10:02.804837Z",
     "start_time": "2021-03-11T11:10:02.505319Z"
    }
   },
   "outputs": [
    {
     "data": {
      "image/png": "[encoded data removed]",
      "text/plain": [
       "<Figure size 432x288 with 1 Axes>"
      ]
     },
     "metadata": {
      "needs_background": "light"
     },
     "output_type": "display_data"
    },
    {
     "data": {
      "text/plain": [
       "[(0.17924011954622518, 'DaysStored'),\n",
       " (0.13822127689659386, 'Sneaker Name_Adidas-Yeezy-Boost-350-V2-Zebra'),\n",
       " (0.13100463099226517, 'Retail Price'),\n",
       " (0.11895938130096545, 'Brand_ Yeezy'),\n",
       " (0.07016502532742096,\n",
       "  'Sneaker Name_Air-Jordan-1-Retro-High-Off-White-University-Blue'),\n",
       " (0.04255547697447202,\n",
       "  'Sneaker Name_Air-Jordan-1-Retro-High-Off-White-Chicago'),\n",
       " (0.04163083200814768, 'Sneaker Name_Nike-Air-Max-97-Off-White-Menta'),\n",
       " (0.028723748035317992,\n",
       "  'Sneaker Name_Adidas-Yeezy-Boost-350-V2-Core-Black-Red'),\n",
       " (0.023558565083322273, 'Sale Price'),\n",
       " (0.018036211043108846, 'Sneaker Name_Nike-Zoom-Fly-Off-White-Black-Silver')]"
      ]
     },
     "execution_count": 4,
     "metadata": {},
     "output_type": "execute_result"
    }
   ],
   "source": [
    "feat_impt = []\n",
    "for x, i in zip(RF.feature_importances_, df4.columns.tolist()):\n",
    "    feat_impt.append((x, i))\n",
    "sort_impt = sorted(feat_impt, key=lambda x: x[0])[-10:]\n",
    "\n",
    "plt.barh([val[1] for val in sort_impt], [val[0] for val in sort_impt],\n",
    "         align='center')\n",
    "plt.title('Most important features')\n",
    "plt.show()\n",
    "sort_impt[::-1]\n"
   ]
  },
  {
   "cell_type": "markdown",
   "metadata": {},
   "source": [
    "Based on the graph, the derived feature was the most important feature for the model. "
   ]
  },
  {
   "cell_type": "code",
   "execution_count": 5,
   "metadata": {
    "ExecuteTime": {
     "end_time": "2021-03-11T11:10:05.024893Z",
     "start_time": "2021-03-11T11:10:02.807052Z"
    }
   },
   "outputs": [
    {
     "data": {
      "text/html": [
       "<div>\n",
       "<style scoped>\n",
       "    .dataframe tbody tr th:only-of-type {\n",
       "        vertical-align: middle;\n",
       "    }\n",
       "\n",
       "    .dataframe tbody tr th {\n",
       "        vertical-align: top;\n",
       "    }\n",
       "\n",
       "    .dataframe thead th {\n",
       "        text-align: right;\n",
       "    }\n",
       "</style>\n",
       "<table border=\"1\" class=\"dataframe\">\n",
       "  <thead>\n",
       "    <tr style=\"text-align: right;\">\n",
       "      <th></th>\n",
       "      <th>Sale Price</th>\n",
       "      <th>Retail Price</th>\n",
       "      <th>DaysStored</th>\n",
       "      <th>Brand_ Yeezy</th>\n",
       "      <th>Brand_Off-White</th>\n",
       "      <th>Sneaker Name_Adidas-Yeezy-Boost-350-Low-Moonrock</th>\n",
       "      <th>Sneaker Name_Adidas-Yeezy-Boost-350-Low-Oxford-Tan</th>\n",
       "      <th>Sneaker Name_Adidas-Yeezy-Boost-350-Low-Pirate-Black-2015</th>\n",
       "      <th>Sneaker Name_Adidas-Yeezy-Boost-350-Low-Pirate-Black-2016</th>\n",
       "      <th>Sneaker Name_Adidas-Yeezy-Boost-350-Low-Turtledove</th>\n",
       "      <th>...</th>\n",
       "      <th>Shoe Size_12.0</th>\n",
       "      <th>Shoe Size_12.5</th>\n",
       "      <th>Shoe Size_13.0</th>\n",
       "      <th>Shoe Size_13.5</th>\n",
       "      <th>Shoe Size_14.0</th>\n",
       "      <th>Shoe Size_14.5</th>\n",
       "      <th>Shoe Size_15.0</th>\n",
       "      <th>Shoe Size_16.0</th>\n",
       "      <th>Shoe Size_17.0</th>\n",
       "      <th>sale_pred</th>\n",
       "    </tr>\n",
       "  </thead>\n",
       "  <tbody>\n",
       "    <tr>\n",
       "      <th>0</th>\n",
       "      <td>1097.0</td>\n",
       "      <td>220</td>\n",
       "      <td>342</td>\n",
       "      <td>1</td>\n",
       "      <td>0</td>\n",
       "      <td>0</td>\n",
       "      <td>0</td>\n",
       "      <td>0</td>\n",
       "      <td>0</td>\n",
       "      <td>0</td>\n",
       "      <td>...</td>\n",
       "      <td>0</td>\n",
       "      <td>0</td>\n",
       "      <td>0</td>\n",
       "      <td>0</td>\n",
       "      <td>0</td>\n",
       "      <td>0</td>\n",
       "      <td>0</td>\n",
       "      <td>0</td>\n",
       "      <td>0</td>\n",
       "      <td>1046.610000</td>\n",
       "    </tr>\n",
       "    <tr>\n",
       "      <th>1</th>\n",
       "      <td>685.0</td>\n",
       "      <td>220</td>\n",
       "      <td>282</td>\n",
       "      <td>1</td>\n",
       "      <td>0</td>\n",
       "      <td>0</td>\n",
       "      <td>0</td>\n",
       "      <td>0</td>\n",
       "      <td>0</td>\n",
       "      <td>0</td>\n",
       "      <td>...</td>\n",
       "      <td>0</td>\n",
       "      <td>0</td>\n",
       "      <td>0</td>\n",
       "      <td>0</td>\n",
       "      <td>0</td>\n",
       "      <td>0</td>\n",
       "      <td>0</td>\n",
       "      <td>0</td>\n",
       "      <td>0</td>\n",
       "      <td>695.270000</td>\n",
       "    </tr>\n",
       "    <tr>\n",
       "      <th>2</th>\n",
       "      <td>690.0</td>\n",
       "      <td>220</td>\n",
       "      <td>282</td>\n",
       "      <td>1</td>\n",
       "      <td>0</td>\n",
       "      <td>0</td>\n",
       "      <td>0</td>\n",
       "      <td>0</td>\n",
       "      <td>0</td>\n",
       "      <td>0</td>\n",
       "      <td>...</td>\n",
       "      <td>0</td>\n",
       "      <td>0</td>\n",
       "      <td>0</td>\n",
       "      <td>0</td>\n",
       "      <td>0</td>\n",
       "      <td>0</td>\n",
       "      <td>0</td>\n",
       "      <td>0</td>\n",
       "      <td>0</td>\n",
       "      <td>686.280000</td>\n",
       "    </tr>\n",
       "    <tr>\n",
       "      <th>3</th>\n",
       "      <td>1075.0</td>\n",
       "      <td>220</td>\n",
       "      <td>282</td>\n",
       "      <td>1</td>\n",
       "      <td>0</td>\n",
       "      <td>0</td>\n",
       "      <td>0</td>\n",
       "      <td>0</td>\n",
       "      <td>0</td>\n",
       "      <td>0</td>\n",
       "      <td>...</td>\n",
       "      <td>0</td>\n",
       "      <td>0</td>\n",
       "      <td>0</td>\n",
       "      <td>0</td>\n",
       "      <td>0</td>\n",
       "      <td>0</td>\n",
       "      <td>0</td>\n",
       "      <td>0</td>\n",
       "      <td>0</td>\n",
       "      <td>1085.420000</td>\n",
       "    </tr>\n",
       "    <tr>\n",
       "      <th>4</th>\n",
       "      <td>828.0</td>\n",
       "      <td>220</td>\n",
       "      <td>202</td>\n",
       "      <td>1</td>\n",
       "      <td>0</td>\n",
       "      <td>0</td>\n",
       "      <td>0</td>\n",
       "      <td>0</td>\n",
       "      <td>0</td>\n",
       "      <td>0</td>\n",
       "      <td>...</td>\n",
       "      <td>0</td>\n",
       "      <td>0</td>\n",
       "      <td>0</td>\n",
       "      <td>0</td>\n",
       "      <td>0</td>\n",
       "      <td>0</td>\n",
       "      <td>0</td>\n",
       "      <td>0</td>\n",
       "      <td>0</td>\n",
       "      <td>808.960000</td>\n",
       "    </tr>\n",
       "    <tr>\n",
       "      <th>...</th>\n",
       "      <td>...</td>\n",
       "      <td>...</td>\n",
       "      <td>...</td>\n",
       "      <td>...</td>\n",
       "      <td>...</td>\n",
       "      <td>...</td>\n",
       "      <td>...</td>\n",
       "      <td>...</td>\n",
       "      <td>...</td>\n",
       "      <td>...</td>\n",
       "      <td>...</td>\n",
       "      <td>...</td>\n",
       "      <td>...</td>\n",
       "      <td>...</td>\n",
       "      <td>...</td>\n",
       "      <td>...</td>\n",
       "      <td>...</td>\n",
       "      <td>...</td>\n",
       "      <td>...</td>\n",
       "      <td>...</td>\n",
       "      <td>...</td>\n",
       "    </tr>\n",
       "    <tr>\n",
       "      <th>99951</th>\n",
       "      <td>565.0</td>\n",
       "      <td>220</td>\n",
       "      <td>49</td>\n",
       "      <td>1</td>\n",
       "      <td>0</td>\n",
       "      <td>0</td>\n",
       "      <td>0</td>\n",
       "      <td>0</td>\n",
       "      <td>0</td>\n",
       "      <td>0</td>\n",
       "      <td>...</td>\n",
       "      <td>0</td>\n",
       "      <td>0</td>\n",
       "      <td>0</td>\n",
       "      <td>0</td>\n",
       "      <td>0</td>\n",
       "      <td>0</td>\n",
       "      <td>0</td>\n",
       "      <td>0</td>\n",
       "      <td>0</td>\n",
       "      <td>593.319108</td>\n",
       "    </tr>\n",
       "    <tr>\n",
       "      <th>99952</th>\n",
       "      <td>598.0</td>\n",
       "      <td>220</td>\n",
       "      <td>49</td>\n",
       "      <td>1</td>\n",
       "      <td>0</td>\n",
       "      <td>0</td>\n",
       "      <td>0</td>\n",
       "      <td>0</td>\n",
       "      <td>0</td>\n",
       "      <td>0</td>\n",
       "      <td>...</td>\n",
       "      <td>0</td>\n",
       "      <td>0</td>\n",
       "      <td>0</td>\n",
       "      <td>0</td>\n",
       "      <td>0</td>\n",
       "      <td>0</td>\n",
       "      <td>0</td>\n",
       "      <td>0</td>\n",
       "      <td>0</td>\n",
       "      <td>593.173794</td>\n",
       "    </tr>\n",
       "    <tr>\n",
       "      <th>99953</th>\n",
       "      <td>605.0</td>\n",
       "      <td>220</td>\n",
       "      <td>49</td>\n",
       "      <td>1</td>\n",
       "      <td>0</td>\n",
       "      <td>0</td>\n",
       "      <td>0</td>\n",
       "      <td>0</td>\n",
       "      <td>0</td>\n",
       "      <td>0</td>\n",
       "      <td>...</td>\n",
       "      <td>0</td>\n",
       "      <td>0</td>\n",
       "      <td>0</td>\n",
       "      <td>0</td>\n",
       "      <td>0</td>\n",
       "      <td>0</td>\n",
       "      <td>0</td>\n",
       "      <td>0</td>\n",
       "      <td>0</td>\n",
       "      <td>601.244391</td>\n",
       "    </tr>\n",
       "    <tr>\n",
       "      <th>99954</th>\n",
       "      <td>650.0</td>\n",
       "      <td>220</td>\n",
       "      <td>49</td>\n",
       "      <td>1</td>\n",
       "      <td>0</td>\n",
       "      <td>0</td>\n",
       "      <td>0</td>\n",
       "      <td>0</td>\n",
       "      <td>0</td>\n",
       "      <td>0</td>\n",
       "      <td>...</td>\n",
       "      <td>0</td>\n",
       "      <td>0</td>\n",
       "      <td>0</td>\n",
       "      <td>0</td>\n",
       "      <td>0</td>\n",
       "      <td>0</td>\n",
       "      <td>0</td>\n",
       "      <td>0</td>\n",
       "      <td>0</td>\n",
       "      <td>693.716829</td>\n",
       "    </tr>\n",
       "    <tr>\n",
       "      <th>99955</th>\n",
       "      <td>640.0</td>\n",
       "      <td>220</td>\n",
       "      <td>49</td>\n",
       "      <td>1</td>\n",
       "      <td>0</td>\n",
       "      <td>0</td>\n",
       "      <td>0</td>\n",
       "      <td>0</td>\n",
       "      <td>0</td>\n",
       "      <td>0</td>\n",
       "      <td>...</td>\n",
       "      <td>0</td>\n",
       "      <td>0</td>\n",
       "      <td>0</td>\n",
       "      <td>0</td>\n",
       "      <td>0</td>\n",
       "      <td>0</td>\n",
       "      <td>0</td>\n",
       "      <td>0</td>\n",
       "      <td>0</td>\n",
       "      <td>626.583817</td>\n",
       "    </tr>\n",
       "  </tbody>\n",
       "</table>\n",
       "<p>99956 rows × 82 columns</p>\n",
       "</div>"
      ],
      "text/plain": [
       "       Sale Price  Retail Price  DaysStored  Brand_ Yeezy  Brand_Off-White  \\\n",
       "0          1097.0           220         342             1                0   \n",
       "1           685.0           220         282             1                0   \n",
       "2           690.0           220         282             1                0   \n",
       "3          1075.0           220         282             1                0   \n",
       "4           828.0           220         202             1                0   \n",
       "...           ...           ...         ...           ...              ...   \n",
       "99951       565.0           220          49             1                0   \n",
       "99952       598.0           220          49             1                0   \n",
       "99953       605.0           220          49             1                0   \n",
       "99954       650.0           220          49             1                0   \n",
       "99955       640.0           220          49             1                0   \n",
       "\n",
       "       Sneaker Name_Adidas-Yeezy-Boost-350-Low-Moonrock  \\\n",
       "0                                                     0   \n",
       "1                                                     0   \n",
       "2                                                     0   \n",
       "3                                                     0   \n",
       "4                                                     0   \n",
       "...                                                 ...   \n",
       "99951                                                 0   \n",
       "99952                                                 0   \n",
       "99953                                                 0   \n",
       "99954                                                 0   \n",
       "99955                                                 0   \n",
       "\n",
       "       Sneaker Name_Adidas-Yeezy-Boost-350-Low-Oxford-Tan  \\\n",
       "0                                                      0    \n",
       "1                                                      0    \n",
       "2                                                      0    \n",
       "3                                                      0    \n",
       "4                                                      0    \n",
       "...                                                  ...    \n",
       "99951                                                  0    \n",
       "99952                                                  0    \n",
       "99953                                                  0    \n",
       "99954                                                  0    \n",
       "99955                                                  0    \n",
       "\n",
       "       Sneaker Name_Adidas-Yeezy-Boost-350-Low-Pirate-Black-2015  \\\n",
       "0                                                      0           \n",
       "1                                                      0           \n",
       "2                                                      0           \n",
       "3                                                      0           \n",
       "4                                                      0           \n",
       "...                                                  ...           \n",
       "99951                                                  0           \n",
       "99952                                                  0           \n",
       "99953                                                  0           \n",
       "99954                                                  0           \n",
       "99955                                                  0           \n",
       "\n",
       "       Sneaker Name_Adidas-Yeezy-Boost-350-Low-Pirate-Black-2016  \\\n",
       "0                                                      0           \n",
       "1                                                      0           \n",
       "2                                                      0           \n",
       "3                                                      0           \n",
       "4                                                      0           \n",
       "...                                                  ...           \n",
       "99951                                                  0           \n",
       "99952                                                  0           \n",
       "99953                                                  0           \n",
       "99954                                                  0           \n",
       "99955                                                  0           \n",
       "\n",
       "       Sneaker Name_Adidas-Yeezy-Boost-350-Low-Turtledove  ...  \\\n",
       "0                                                      0   ...   \n",
       "1                                                      0   ...   \n",
       "2                                                      0   ...   \n",
       "3                                                      0   ...   \n",
       "4                                                      0   ...   \n",
       "...                                                  ...   ...   \n",
       "99951                                                  0   ...   \n",
       "99952                                                  0   ...   \n",
       "99953                                                  0   ...   \n",
       "99954                                                  0   ...   \n",
       "99955                                                  0   ...   \n",
       "\n",
       "       Shoe Size_12.0  Shoe Size_12.5  Shoe Size_13.0  Shoe Size_13.5  \\\n",
       "0                   0               0               0               0   \n",
       "1                   0               0               0               0   \n",
       "2                   0               0               0               0   \n",
       "3                   0               0               0               0   \n",
       "4                   0               0               0               0   \n",
       "...               ...             ...             ...             ...   \n",
       "99951               0               0               0               0   \n",
       "99952               0               0               0               0   \n",
       "99953               0               0               0               0   \n",
       "99954               0               0               0               0   \n",
       "99955               0               0               0               0   \n",
       "\n",
       "       Shoe Size_14.0  Shoe Size_14.5  Shoe Size_15.0  Shoe Size_16.0  \\\n",
       "0                   0               0               0               0   \n",
       "1                   0               0               0               0   \n",
       "2                   0               0               0               0   \n",
       "3                   0               0               0               0   \n",
       "4                   0               0               0               0   \n",
       "...               ...             ...             ...             ...   \n",
       "99951               0               0               0               0   \n",
       "99952               0               0               0               0   \n",
       "99953               0               0               0               0   \n",
       "99954               0               0               0               0   \n",
       "99955               0               0               0               0   \n",
       "\n",
       "       Shoe Size_17.0    sale_pred  \n",
       "0                   0  1046.610000  \n",
       "1                   0   695.270000  \n",
       "2                   0   686.280000  \n",
       "3                   0  1085.420000  \n",
       "4                   0   808.960000  \n",
       "...               ...          ...  \n",
       "99951               0   593.319108  \n",
       "99952               0   593.173794  \n",
       "99953               0   601.244391  \n",
       "99954               0   693.716829  \n",
       "99955               0   626.583817  \n",
       "\n",
       "[99956 rows x 82 columns]"
      ]
     },
     "execution_count": 5,
     "metadata": {},
     "output_type": "execute_result"
    }
   ],
   "source": [
    "df5['sale_pred'] = RF.predict(features1)\n",
    "df5\n"
   ]
  },
  {
   "cell_type": "code",
   "execution_count": 6,
   "metadata": {
    "ExecuteTime": {
     "end_time": "2021-03-11T11:10:05.211324Z",
     "start_time": "2021-03-11T11:10:05.026502Z"
    }
   },
   "outputs": [
    {
     "name": "stderr",
     "output_type": "stream",
     "text": [
      "<ipython-input-6-d9c47004b4ed>:2: FutureWarning: Indexing with multiple keys (implicitly converted to a tuple of keys) will be deprecated, use a list instead.\n",
      "  df5_j11 = df5_j1.groupby(['DaysStored'])['Sale Price', 'sale_pred'].mean()\n"
     ]
    },
    {
     "data": {
      "text/plain": [
       "[<matplotlib.lines.Line2D at 0x7f9ca7557b20>]"
      ]
     },
     "execution_count": 6,
     "metadata": {},
     "output_type": "execute_result"
    },
    {
     "data": {
      "image/png": "[encoded data removed]",
      "text/plain": [
       "<Figure size 1440x720 with 1 Axes>"
      ]
     },
     "metadata": {
      "needs_background": "light"
     },
     "output_type": "display_data"
    }
   ],
   "source": [
    "df5_j1 = df5[df5['Sneaker Name_Air-Jordan-1-Retro-High-Off-White-Chicago'] == 1]\n",
    "df5_j11 = df5_j1.groupby(['DaysStored'])['Sale Price', 'sale_pred'].mean()\n",
    "plt.figure(figsize=(20,10))\n",
    "plt.plot(df5_j11.index, df5_j11['Sale Price'], color='red')\n",
    "plt.plot(df5_j11.index, df5_j11['sale_pred'])\n"
   ]
  },
  {
   "cell_type": "markdown",
   "metadata": {},
   "source": [
    "# Accuracy"
   ]
  },
  {
   "cell_type": "code",
   "execution_count": 7,
   "metadata": {
    "ExecuteTime": {
     "end_time": "2021-03-11T11:10:05.220681Z",
     "start_time": "2021-03-11T11:10:05.213149Z"
    }
   },
   "outputs": [
    {
     "name": "stdout",
     "output_type": "stream",
     "text": [
      "Mean Squared Error = 580.8551176733589\n",
      "R squared = 0.9911355826827489\n"
     ]
    }
   ],
   "source": [
    "mean_sq = mean_squared_error(df5['Sale Price'], df5['sale_pred'])\n",
    "r2 = r2_score(df5['Sale Price'], df5['sale_pred'])\n",
    "print(f'Mean Squared Error = {mean_sq}')\n",
    "print(f'R squared = {r2}')"
   ]
  },
  {
   "cell_type": "markdown",
   "metadata": {},
   "source": [
    "R squared was close to one, which implies that the model is accurate."
   ]
  },
  {
   "cell_type": "code",
   "execution_count": 8,
   "metadata": {
    "ExecuteTime": {
     "end_time": "2021-03-11T11:10:05.241473Z",
     "start_time": "2021-03-11T11:10:05.223179Z"
    }
   },
   "outputs": [
    {
     "name": "stdout",
     "output_type": "stream",
     "text": [
      "0. Retail Price\n",
      "1. DaysStored\n",
      "2. Brand_ Yeezy\n",
      "3. Brand_Off-White\n",
      "4. Sneaker Name_Adidas-Yeezy-Boost-350-Low-Moonrock\n",
      "5. Sneaker Name_Adidas-Yeezy-Boost-350-Low-Oxford-Tan\n",
      "6. Sneaker Name_Adidas-Yeezy-Boost-350-Low-Pirate-Black-2015\n",
      "7. Sneaker Name_Adidas-Yeezy-Boost-350-Low-Pirate-Black-2016\n",
      "8. Sneaker Name_Adidas-Yeezy-Boost-350-Low-Turtledove\n",
      "9. Sneaker Name_Adidas-Yeezy-Boost-350-Low-V2-Beluga\n",
      "10. Sneaker Name_Adidas-Yeezy-Boost-350-V2-Beluga-2pt0\n",
      "11. Sneaker Name_Adidas-Yeezy-Boost-350-V2-Blue-Tint\n",
      "12. Sneaker Name_Adidas-Yeezy-Boost-350-V2-Core-Black-Copper\n",
      "13. Sneaker Name_Adidas-Yeezy-Boost-350-V2-Core-Black-Green\n",
      "14. Sneaker Name_Adidas-Yeezy-Boost-350-V2-Core-Black-Red\n",
      "15. Sneaker Name_Adidas-Yeezy-Boost-350-V2-Core-Black-Red-2017\n",
      "16. Sneaker Name_Adidas-Yeezy-Boost-350-V2-Core-Black-White\n",
      "17. Sneaker Name_Adidas-Yeezy-Boost-350-V2-Cream-White\n",
      "18. Sneaker Name_Adidas-Yeezy-Boost-350-V2-Semi-Frozen-Yellow\n",
      "19. Sneaker Name_Adidas-Yeezy-Boost-350-V2-Sesame\n",
      "20. Sneaker Name_Adidas-Yeezy-Boost-350-V2-Zebra\n",
      "21. Sneaker Name_Air-Jordan-1-Retro-High-Off-White-Chicago\n",
      "22. Sneaker Name_Air-Jordan-1-Retro-High-Off-White-University-Blue\n",
      "23. Sneaker Name_Air-Jordan-1-Retro-High-Off-White-White\n",
      "24. Sneaker Name_Nike-Air-Force-1-Low-Off-White\n",
      "25. Sneaker Name_Nike-Air-Force-1-Low-Off-White-Black-White\n",
      "26. Sneaker Name_Nike-Air-Force-1-Low-Off-White-Volt\n",
      "27. Sneaker Name_Nike-Air-Force-1-Low-Virgil-Abloh-Off-White-AF100\n",
      "28. Sneaker Name_Nike-Air-Max-90-Off-White\n",
      "29. Sneaker Name_Nike-Air-Max-90-Off-White-Black\n",
      "30. Sneaker Name_Nike-Air-Max-90-Off-White-Desert-Ore\n",
      "31. Sneaker Name_Nike-Air-Max-97-Off-White\n",
      "32. Sneaker Name_Nike-Air-Max-97-Off-White-Black\n",
      "33. Sneaker Name_Nike-Air-Max-97-Off-White-Elemental-Rose-Queen\n",
      "34. Sneaker Name_Nike-Air-Max-97-Off-White-Menta\n",
      "35. Sneaker Name_Nike-Air-Presto-Off-White\n",
      "36. Sneaker Name_Nike-Air-Presto-Off-White-Black-2018\n",
      "37. Sneaker Name_Nike-Air-Presto-Off-White-White-2018\n",
      "38. Sneaker Name_Nike-Air-VaporMax-Off-White\n",
      "39. Sneaker Name_Nike-Air-VaporMax-Off-White-2018\n",
      "40. Sneaker Name_Nike-Air-VaporMax-Off-White-Black\n",
      "41. Sneaker Name_Nike-Blazer-Mid-Off-White\n",
      "42. Sneaker Name_Nike-Blazer-Mid-Off-White-All-Hallows-Eve\n",
      "43. Sneaker Name_Nike-Blazer-Mid-Off-White-Grim-Reaper\n",
      "44. Sneaker Name_Nike-Blazer-Mid-Off-White-Wolf-Grey\n",
      "45. Sneaker Name_Nike-React-Hyperdunk-2017-Flyknit-Off-White\n",
      "46. Sneaker Name_Nike-Zoom-Fly-Mercurial-Off-White-Black\n",
      "47. Sneaker Name_Nike-Zoom-Fly-Mercurial-Off-White-Total-Orange\n",
      "48. Sneaker Name_Nike-Zoom-Fly-Off-White\n",
      "49. Sneaker Name_Nike-Zoom-Fly-Off-White-Black-Silver\n",
      "50. Sneaker Name_Nike-Zoom-Fly-Off-White-Pink\n",
      "51. Sneaker Name_adidas-Yeezy-Boost-350-V2-Butter\n",
      "52. Sneaker Name_adidas-Yeezy-Boost-350-V2-Static\n",
      "53. Sneaker Name_adidas-Yeezy-Boost-350-V2-Static-Reflective\n",
      "54. Shoe Size_3.5\n",
      "55. Shoe Size_4.0\n",
      "56. Shoe Size_4.5\n",
      "57. Shoe Size_5.0\n",
      "58. Shoe Size_5.5\n",
      "59. Shoe Size_6.0\n",
      "60. Shoe Size_6.5\n",
      "61. Shoe Size_7.0\n",
      "62. Shoe Size_7.5\n",
      "63. Shoe Size_8.0\n",
      "64. Shoe Size_8.5\n",
      "65. Shoe Size_9.0\n",
      "66. Shoe Size_9.5\n",
      "67. Shoe Size_10.0\n",
      "68. Shoe Size_10.5\n",
      "69. Shoe Size_11.0\n",
      "70. Shoe Size_11.5\n",
      "71. Shoe Size_12.0\n",
      "72. Shoe Size_12.5\n",
      "73. Shoe Size_13.0\n",
      "74. Shoe Size_13.5\n",
      "75. Shoe Size_14.0\n",
      "76. Shoe Size_14.5\n",
      "77. Shoe Size_15.0\n",
      "78. Shoe Size_16.0\n",
      "79. Shoe Size_17.0\n"
     ]
    }
   ],
   "source": [
    "col_feat = df_feat1.columns.tolist()\n",
    "for item in range(len(col_feat)):\n",
    "    print(f'{item}. {col_feat[item]}')"
   ]
  },
  {
   "cell_type": "markdown",
   "metadata": {},
   "source": [
    "As you can see below, although the model is accurate, one weakness of it is that it cannot do extrapolation properly."
   ]
  },
  {
   "cell_type": "code",
   "execution_count": 9,
   "metadata": {
    "ExecuteTime": {
     "end_time": "2021-03-11T11:10:11.454942Z",
     "start_time": "2021-03-11T11:10:05.243735Z"
    },
    "scrolled": false
   },
   "outputs": [
    {
     "data": {
      "image/png": "[encoded data removed]",
      "text/plain": [
       "<Figure size 432x288 with 1 Axes>"
      ]
     },
     "metadata": {
      "needs_background": "light"
     },
     "output_type": "display_data"
    }
   ],
   "source": [
    "list1 = [0]*80\n",
    "price = []\n",
    "brand = 3\n",
    "\n",
    "shoesize = 65\n",
    "\n",
    "price = []\n",
    "list1 = [0]*80\n",
    "for z in range(-100, 1000):\n",
    "    list1[0] = 220\n",
    "    list1[1] = z\n",
    "    list1[brand] = 1\n",
    "    list1[21] = 1\n",
    "    list1[shoesize] = 1\n",
    "    j1_ow_chi_now = RF.predict(np.array(list1).reshape(1, -1))\n",
    "    price.append([z, int(j1_ow_chi_now)])\n",
    "plt.plot([val[0] for val in price], [val[1] for val in price])\n",
    "shoe_name = re.findall(r'Sneaker Name_(.+)', col_feat[21])[0]\n",
    "size = re.findall(r'Shoe Size_(.+)', col_feat[shoesize])[0]\n",
    "plt.title(f'{shoe_name} Price per day since release')\n",
    "plt.show()"
   ]
  },
  {
   "cell_type": "code",
   "execution_count": 10,
   "metadata": {
    "ExecuteTime": {
     "end_time": "2021-03-11T11:10:11.767072Z",
     "start_time": "2021-03-11T11:10:11.456514Z"
    }
   },
   "outputs": [],
   "source": [
    "df = {'DaysStored':[val[0] for val in price], 'sale_pred':[val[1] for val in price]}\n",
    "df = pd.DataFrame.from_dict(df)\n",
    "df.to_excel('j1offwhitechi_sz9.xlsx')"
   ]
  },
  {
   "cell_type": "markdown",
   "metadata": {},
   "source": [
    "The predicted prices of the Random Forest model, excluding the extrapolated values, were used. This is what I'll use to train the LSTM and GRU models"
   ]
  },
  {
   "cell_type": "code",
   "execution_count": 11,
   "metadata": {
    "ExecuteTime": {
     "end_time": "2021-03-11T11:10:11.814645Z",
     "start_time": "2021-03-11T11:10:11.768818Z"
    }
   },
   "outputs": [
    {
     "data": {
      "text/html": [
       "<div>\n",
       "<style scoped>\n",
       "    .dataframe tbody tr th:only-of-type {\n",
       "        vertical-align: middle;\n",
       "    }\n",
       "\n",
       "    .dataframe tbody tr th {\n",
       "        vertical-align: top;\n",
       "    }\n",
       "\n",
       "    .dataframe thead th {\n",
       "        text-align: right;\n",
       "    }\n",
       "</style>\n",
       "<table border=\"1\" class=\"dataframe\">\n",
       "  <thead>\n",
       "    <tr style=\"text-align: right;\">\n",
       "      <th></th>\n",
       "      <th>DaysStored</th>\n",
       "      <th>sale_pred</th>\n",
       "    </tr>\n",
       "  </thead>\n",
       "  <tbody>\n",
       "    <tr>\n",
       "      <th>100</th>\n",
       "      <td>0</td>\n",
       "      <td>2521</td>\n",
       "    </tr>\n",
       "    <tr>\n",
       "      <th>101</th>\n",
       "      <td>1</td>\n",
       "      <td>2285</td>\n",
       "    </tr>\n",
       "    <tr>\n",
       "      <th>102</th>\n",
       "      <td>2</td>\n",
       "      <td>2128</td>\n",
       "    </tr>\n",
       "    <tr>\n",
       "      <th>103</th>\n",
       "      <td>3</td>\n",
       "      <td>2048</td>\n",
       "    </tr>\n",
       "    <tr>\n",
       "      <th>104</th>\n",
       "      <td>4</td>\n",
       "      <td>2048</td>\n",
       "    </tr>\n",
       "  </tbody>\n",
       "</table>\n",
       "</div>"
      ],
      "text/plain": [
       "     DaysStored  sale_pred\n",
       "100           0       2521\n",
       "101           1       2285\n",
       "102           2       2128\n",
       "103           3       2048\n",
       "104           4       2048"
      ]
     },
     "execution_count": 11,
     "metadata": {},
     "output_type": "execute_result"
    }
   ],
   "source": [
    "df_jow = pd.read_excel('j1offwhitechi_sz9.xlsx')\n",
    "df_jow = df_jow.drop('Unnamed: 0', axis=1)[100:622]\n",
    "df_jow.head()"
   ]
  },
  {
   "cell_type": "markdown",
   "metadata": {},
   "source": [
    "After loading the excel file, `MinMaxScaler` was used to scale the values from 0 to 1. This is done to minimize the computational complexity when I run the algorithm. Also, the dataset was sliced at a ratio of 80:20, where the first 80% corresponds to the first 80% of the dataset, which will be used for training, while the last 20% will be used as a test set. "
   ]
  },
  {
   "cell_type": "code",
   "execution_count": 12,
   "metadata": {
    "ExecuteTime": {
     "end_time": "2021-03-11T11:10:11.821964Z",
     "start_time": "2021-03-11T11:10:11.816447Z"
    }
   },
   "outputs": [
    {
     "data": {
      "text/plain": [
       "(522, 1)"
      ]
     },
     "execution_count": 12,
     "metadata": {},
     "output_type": "execute_result"
    }
   ],
   "source": [
    "from sklearn.preprocessing import MinMaxScaler\n",
    "prices = df_jow.sale_pred.values.astype('float32')\n",
    "prices = prices.reshape(522, 1)\n",
    "scaler = MinMaxScaler(feature_range=(0, 1))\n",
    "prices = scaler.fit_transform(prices)\n",
    "prices.shape"
   ]
  },
  {
   "cell_type": "code",
   "execution_count": 13,
   "metadata": {
    "ExecuteTime": {
     "end_time": "2021-03-11T11:10:11.828068Z",
     "start_time": "2021-03-11T11:10:11.823575Z"
    }
   },
   "outputs": [
    {
     "name": "stdout",
     "output_type": "stream",
     "text": [
      "417 105\n"
     ]
    }
   ],
   "source": [
    "train_size = int(len(prices) * 0.80)\n",
    "test_size = len(prices) - train_size\n",
    "train, test = prices[0:train_size, :], prices[train_size:len(prices), :]\n",
    "print(len(train), len(test))"
   ]
  },
  {
   "cell_type": "markdown",
   "metadata": {},
   "source": [
    "Lookback for 7days was created by grouping every values to 7days, with the 8th day as a target. "
   ]
  },
  {
   "cell_type": "code",
   "execution_count": 14,
   "metadata": {
    "ExecuteTime": {
     "end_time": "2021-03-11T11:10:11.833859Z",
     "start_time": "2021-03-11T11:10:11.829811Z"
    }
   },
   "outputs": [],
   "source": [
    "def create_dataset(dataset, look_back=1):\n",
    "    dataX, dataY = [], []\n",
    "    for i in range(len(dataset)-look_back-1):\n",
    "        a = dataset[i: (i + look_back), 0]\n",
    "        dataX.append(a)\n",
    "        dataY.append(dataset[i + look_back, 0])\n",
    "    return np.array(dataX), np.array(dataY)"
   ]
  },
  {
   "cell_type": "code",
   "execution_count": 16,
   "metadata": {
    "ExecuteTime": {
     "end_time": "2021-03-11T11:17:30.190165Z",
     "start_time": "2021-03-11T11:17:30.181688Z"
    }
   },
   "outputs": [
    {
     "data": {
      "text/plain": [
       "array([0.8124599 , 0.66088635, 0.5600514 , 0.5086705 , 0.5086705 ],\n",
       "      dtype=float32)"
      ]
     },
     "execution_count": 16,
     "metadata": {},
     "output_type": "execute_result"
    }
   ],
   "source": [
    "train[0:5, 0]"
   ]
  },
  {
   "cell_type": "code",
   "execution_count": 144,
   "metadata": {
    "ExecuteTime": {
     "end_time": "2021-01-15T19:35:30.668226Z",
     "start_time": "2021-01-15T19:35:30.660387Z"
    }
   },
   "outputs": [],
   "source": [
    "look_back = 7\n",
    "trainX, trainY = create_dataset(train, look_back)\n",
    "testX, testY = create_dataset(test, look_back)"
   ]
  },
  {
   "cell_type": "code",
   "execution_count": 145,
   "metadata": {
    "ExecuteTime": {
     "end_time": "2021-01-15T19:35:31.233415Z",
     "start_time": "2021-01-15T19:35:31.227011Z"
    }
   },
   "outputs": [],
   "source": [
    "trainX = np.reshape(trainX, (trainX.shape[0], 1, trainX.shape[1]))\n",
    "testX = np.reshape(testX, (testX.shape[0], 1, testX.shape[1]))\n"
   ]
  },
  {
   "cell_type": "markdown",
   "metadata": {},
   "source": [
    "A three-layered LSTM model is built below. And the training data (80%) will be used to train the model. "
   ]
  },
  {
   "cell_type": "code",
   "execution_count": 146,
   "metadata": {
    "ExecuteTime": {
     "end_time": "2021-01-15T19:35:32.414777Z",
     "start_time": "2021-01-15T19:35:31.828342Z"
    }
   },
   "outputs": [],
   "source": [
    "model = Sequential()\n",
    "\n",
    "model.add(LSTM(units=50, input_dim=7, return_sequences=True))\n",
    "model.add(Dropout(0.2))\n",
    "\n",
    "model.add(LSTM(units=50, return_sequences = True))\n",
    "model.add(Dropout(rate = 0.2))\n",
    "\n",
    "model.add(LSTM(units=50, return_sequences=False))\n",
    "model.add(Dropout(rate=0.2))\n",
    "\n",
    "model.add(Dense(1))\n",
    "\n",
    "model.compile(optimizer='adam', loss='mean_squared_error')"
   ]
  },
  {
   "cell_type": "code",
   "execution_count": 147,
   "metadata": {
    "ExecuteTime": {
     "end_time": "2021-01-15T19:35:32.589521Z",
     "start_time": "2021-01-15T19:35:32.576651Z"
    }
   },
   "outputs": [
    {
     "name": "stdout",
     "output_type": "stream",
     "text": [
      "Model: \"sequential_16\"\n",
      "_________________________________________________________________\n",
      "Layer (type)                 Output Shape              Param #   \n",
      "=================================================================\n",
      "lstm_19 (LSTM)               (None, None, 50)          11600     \n",
      "_________________________________________________________________\n",
      "dropout_33 (Dropout)         (None, None, 50)          0         \n",
      "_________________________________________________________________\n",
      "lstm_20 (LSTM)               (None, None, 50)          20200     \n",
      "_________________________________________________________________\n",
      "dropout_34 (Dropout)         (None, None, 50)          0         \n",
      "_________________________________________________________________\n",
      "lstm_21 (LSTM)               (None, 50)                20200     \n",
      "_________________________________________________________________\n",
      "dropout_35 (Dropout)         (None, 50)                0         \n",
      "_________________________________________________________________\n",
      "dense_11 (Dense)             (None, 1)                 51        \n",
      "=================================================================\n",
      "Total params: 52,051\n",
      "Trainable params: 52,051\n",
      "Non-trainable params: 0\n",
      "_________________________________________________________________\n"
     ]
    }
   ],
   "source": [
    "model.summary()"
   ]
  },
  {
   "cell_type": "code",
   "execution_count": 148,
   "metadata": {
    "ExecuteTime": {
     "end_time": "2021-01-15T19:35:52.692629Z",
     "start_time": "2021-01-15T19:35:33.364270Z"
    },
    "scrolled": true
   },
   "outputs": [
    {
     "name": "stdout",
     "output_type": "stream",
     "text": [
      "Epoch 1/100\n",
      "13/13 [==============================] - 3s 13ms/step - loss: 0.3238\n",
      "Epoch 2/100\n",
      "13/13 [==============================] - 0s 12ms/step - loss: 0.2380\n",
      "Epoch 3/100\n",
      "13/13 [==============================] - 0s 12ms/step - loss: 0.1234\n",
      "Epoch 4/100\n",
      "13/13 [==============================] - 0s 13ms/step - loss: 0.0223\n",
      "Epoch 5/100\n",
      "13/13 [==============================] - 0s 13ms/step - loss: 0.0173\n",
      "Epoch 6/100\n",
      "13/13 [==============================] - 0s 12ms/step - loss: 0.0169\n",
      "Epoch 7/100\n",
      "13/13 [==============================] - 0s 12ms/step - loss: 0.0124\n",
      "Epoch 8/100\n",
      "13/13 [==============================] - 0s 12ms/step - loss: 0.0116\n",
      "Epoch 9/100\n",
      "13/13 [==============================] - 0s 12ms/step - loss: 0.0095\n",
      "Epoch 10/100\n",
      "13/13 [==============================] - 0s 12ms/step - loss: 0.0102\n",
      "Epoch 11/100\n",
      "13/13 [==============================] - 0s 12ms/step - loss: 0.0088\n",
      "Epoch 12/100\n",
      "13/13 [==============================] - 0s 12ms/step - loss: 0.0096\n",
      "Epoch 13/100\n",
      "13/13 [==============================] - 0s 12ms/step - loss: 0.0079\n",
      "Epoch 14/100\n",
      "13/13 [==============================] - 0s 12ms/step - loss: 0.0084\n",
      "Epoch 15/100\n",
      "13/13 [==============================] - 0s 12ms/step - loss: 0.0071\n",
      "Epoch 16/100\n",
      "13/13 [==============================] - 0s 12ms/step - loss: 0.0079\n",
      "Epoch 17/100\n",
      "13/13 [==============================] - 0s 12ms/step - loss: 0.0067\n",
      "Epoch 18/100\n",
      "13/13 [==============================] - 0s 12ms/step - loss: 0.0064\n",
      "Epoch 19/100\n",
      "13/13 [==============================] - 0s 12ms/step - loss: 0.0079\n",
      "Epoch 20/100\n",
      "13/13 [==============================] - 0s 13ms/step - loss: 0.0075\n",
      "Epoch 21/100\n",
      "13/13 [==============================] - 0s 12ms/step - loss: 0.0075\n",
      "Epoch 22/100\n",
      "13/13 [==============================] - 0s 12ms/step - loss: 0.0062\n",
      "Epoch 23/100\n",
      "13/13 [==============================] - 0s 12ms/step - loss: 0.0069\n",
      "Epoch 24/100\n",
      "13/13 [==============================] - 0s 12ms/step - loss: 0.0065\n",
      "Epoch 25/100\n",
      "13/13 [==============================] - 0s 12ms/step - loss: 0.0060\n",
      "Epoch 26/100\n",
      "13/13 [==============================] - 0s 12ms/step - loss: 0.0056\n",
      "Epoch 27/100\n",
      "13/13 [==============================] - 0s 13ms/step - loss: 0.0044\n",
      "Epoch 28/100\n",
      "13/13 [==============================] - 0s 13ms/step - loss: 0.0062\n",
      "Epoch 29/100\n",
      "13/13 [==============================] - 0s 12ms/step - loss: 0.0048\n",
      "Epoch 30/100\n",
      "13/13 [==============================] - 0s 12ms/step - loss: 0.0050\n",
      "Epoch 31/100\n",
      "13/13 [==============================] - 0s 12ms/step - loss: 0.0052\n",
      "Epoch 32/100\n",
      "13/13 [==============================] - 0s 12ms/step - loss: 0.0051\n",
      "Epoch 33/100\n",
      "13/13 [==============================] - 0s 12ms/step - loss: 0.0044\n",
      "Epoch 34/100\n",
      "13/13 [==============================] - 0s 12ms/step - loss: 0.0056\n",
      "Epoch 35/100\n",
      "13/13 [==============================] - 0s 12ms/step - loss: 0.0043\n",
      "Epoch 36/100\n",
      "13/13 [==============================] - 0s 12ms/step - loss: 0.0050\n",
      "Epoch 37/100\n",
      "13/13 [==============================] - 0s 13ms/step - loss: 0.0055\n",
      "Epoch 38/100\n",
      "13/13 [==============================] - 0s 12ms/step - loss: 0.0042\n",
      "Epoch 39/100\n",
      "13/13 [==============================] - 0s 12ms/step - loss: 0.0052\n",
      "Epoch 40/100\n",
      "13/13 [==============================] - 0s 12ms/step - loss: 0.0038\n",
      "Epoch 41/100\n",
      "13/13 [==============================] - 0s 13ms/step - loss: 0.0038\n",
      "Epoch 42/100\n",
      "13/13 [==============================] - 0s 14ms/step - loss: 0.0040\n",
      "Epoch 43/100\n",
      "13/13 [==============================] - 0s 12ms/step - loss: 0.0043\n",
      "Epoch 44/100\n",
      "13/13 [==============================] - 0s 12ms/step - loss: 0.0041\n",
      "Epoch 45/100\n",
      "13/13 [==============================] - 0s 13ms/step - loss: 0.0034\n",
      "Epoch 46/100\n",
      "13/13 [==============================] - 0s 12ms/step - loss: 0.0039\n",
      "Epoch 47/100\n",
      "13/13 [==============================] - 0s 12ms/step - loss: 0.0037\n",
      "Epoch 48/100\n",
      "13/13 [==============================] - 0s 12ms/step - loss: 0.0040\n",
      "Epoch 49/100\n",
      "13/13 [==============================] - 0s 12ms/step - loss: 0.0042\n",
      "Epoch 50/100\n",
      "13/13 [==============================] - 0s 12ms/step - loss: 0.0047\n",
      "Epoch 51/100\n",
      "13/13 [==============================] - 0s 12ms/step - loss: 0.0033\n",
      "Epoch 52/100\n",
      "13/13 [==============================] - 0s 12ms/step - loss: 0.0048\n",
      "Epoch 53/100\n",
      "13/13 [==============================] - 0s 12ms/step - loss: 0.0040\n",
      "Epoch 54/100\n",
      "13/13 [==============================] - 0s 12ms/step - loss: 0.0037\n",
      "Epoch 55/100\n",
      "13/13 [==============================] - 0s 12ms/step - loss: 0.0038\n",
      "Epoch 56/100\n",
      "13/13 [==============================] - 0s 12ms/step - loss: 0.0037\n",
      "Epoch 57/100\n",
      "13/13 [==============================] - 0s 12ms/step - loss: 0.0038\n",
      "Epoch 58/100\n",
      "13/13 [==============================] - 0s 11ms/step - loss: 0.0040\n",
      "Epoch 59/100\n",
      "13/13 [==============================] - 0s 12ms/step - loss: 0.0037\n",
      "Epoch 60/100\n",
      "13/13 [==============================] - 0s 12ms/step - loss: 0.0035\n",
      "Epoch 61/100\n",
      "13/13 [==============================] - 0s 12ms/step - loss: 0.0033\n",
      "Epoch 62/100\n",
      "13/13 [==============================] - 0s 12ms/step - loss: 0.0037\n",
      "Epoch 63/100\n",
      "13/13 [==============================] - 0s 12ms/step - loss: 0.0035\n",
      "Epoch 64/100\n",
      "13/13 [==============================] - 0s 12ms/step - loss: 0.0028\n",
      "Epoch 65/100\n",
      "13/13 [==============================] - 0s 12ms/step - loss: 0.0037\n",
      "Epoch 66/100\n",
      "13/13 [==============================] - 0s 13ms/step - loss: 0.0035\n",
      "Epoch 67/100\n",
      "13/13 [==============================] - 0s 12ms/step - loss: 0.0032\n",
      "Epoch 68/100\n",
      "13/13 [==============================] - 0s 13ms/step - loss: 0.0039\n",
      "Epoch 69/100\n",
      "13/13 [==============================] - 0s 12ms/step - loss: 0.0037\n",
      "Epoch 70/100\n",
      "13/13 [==============================] - 0s 12ms/step - loss: 0.0038\n",
      "Epoch 71/100\n",
      "13/13 [==============================] - 0s 12ms/step - loss: 0.0034\n",
      "Epoch 72/100\n",
      "13/13 [==============================] - 0s 13ms/step - loss: 0.0038\n",
      "Epoch 73/100\n",
      "13/13 [==============================] - 0s 12ms/step - loss: 0.0036\n",
      "Epoch 74/100\n",
      "13/13 [==============================] - 0s 12ms/step - loss: 0.0035\n",
      "Epoch 75/100\n",
      "13/13 [==============================] - 0s 12ms/step - loss: 0.0036\n",
      "Epoch 76/100\n",
      "13/13 [==============================] - 0s 12ms/step - loss: 0.0037\n",
      "Epoch 77/100\n",
      "13/13 [==============================] - 0s 12ms/step - loss: 0.0038\n",
      "Epoch 78/100\n",
      "13/13 [==============================] - 0s 12ms/step - loss: 0.0035\n",
      "Epoch 79/100\n",
      "13/13 [==============================] - 0s 12ms/step - loss: 0.0030\n",
      "Epoch 80/100\n",
      "13/13 [==============================] - 0s 12ms/step - loss: 0.0033\n",
      "Epoch 81/100\n",
      "13/13 [==============================] - 0s 12ms/step - loss: 0.0037\n",
      "Epoch 82/100\n",
      "13/13 [==============================] - 0s 12ms/step - loss: 0.0037\n",
      "Epoch 83/100\n",
      "13/13 [==============================] - 0s 12ms/step - loss: 0.0037\n",
      "Epoch 84/100\n",
      "13/13 [==============================] - 0s 12ms/step - loss: 0.0039\n",
      "Epoch 85/100\n",
      "13/13 [==============================] - 0s 11ms/step - loss: 0.0030\n",
      "Epoch 86/100\n",
      "13/13 [==============================] - 0s 12ms/step - loss: 0.0028\n",
      "Epoch 87/100\n",
      "13/13 [==============================] - 0s 12ms/step - loss: 0.0031\n",
      "Epoch 88/100\n",
      "13/13 [==============================] - 0s 13ms/step - loss: 0.0028\n",
      "Epoch 89/100\n",
      "13/13 [==============================] - 0s 13ms/step - loss: 0.0027\n",
      "Epoch 90/100\n",
      "13/13 [==============================] - 0s 13ms/step - loss: 0.0031\n",
      "Epoch 91/100\n",
      "13/13 [==============================] - 0s 12ms/step - loss: 0.0027\n",
      "Epoch 92/100\n",
      "13/13 [==============================] - 0s 12ms/step - loss: 0.0035\n",
      "Epoch 93/100\n",
      "13/13 [==============================] - 0s 12ms/step - loss: 0.0035\n",
      "Epoch 94/100\n",
      "13/13 [==============================] - 0s 12ms/step - loss: 0.0030\n",
      "Epoch 95/100\n",
      "13/13 [==============================] - 0s 12ms/step - loss: 0.0028\n",
      "Epoch 96/100\n",
      "13/13 [==============================] - 0s 12ms/step - loss: 0.0034\n",
      "Epoch 97/100\n",
      "13/13 [==============================] - 0s 13ms/step - loss: 0.0030\n",
      "Epoch 98/100\n",
      "13/13 [==============================] - 0s 12ms/step - loss: 0.0026\n",
      "Epoch 99/100\n",
      "13/13 [==============================] - 0s 13ms/step - loss: 0.0035\n",
      "Epoch 100/100\n",
      "13/13 [==============================] - 0s 13ms/step - loss: 0.0025\n"
     ]
    },
    {
     "data": {
      "text/plain": [
       "<tensorflow.python.keras.callbacks.History at 0x7fd5546ee250>"
      ]
     },
     "execution_count": 148,
     "metadata": {},
     "output_type": "execute_result"
    }
   ],
   "source": [
    "model.fit(x = trainX, y = trainY, batch_size = 32, epochs = 100)\n"
   ]
  },
  {
   "cell_type": "code",
   "execution_count": 149,
   "metadata": {
    "ExecuteTime": {
     "end_time": "2021-01-15T19:36:00.390451Z",
     "start_time": "2021-01-15T19:35:59.516350Z"
    },
    "scrolled": true
   },
   "outputs": [],
   "source": [
    "prediction = model.predict(testX)\n",
    "prediction = scaler.inverse_transform(np.array(prediction).reshape(-1, 1))\n",
    "actual = scaler.inverse_transform(np.array(testY).reshape(-1, 1))\n"
   ]
  },
  {
   "cell_type": "code",
   "execution_count": 150,
   "metadata": {
    "ExecuteTime": {
     "end_time": "2021-01-15T19:36:04.572953Z",
     "start_time": "2021-01-15T19:36:04.566911Z"
    },
    "scrolled": true
   },
   "outputs": [],
   "source": [
    "prediction = [x[0] for x in prediction.tolist()]\n",
    "actual = [x[0] for x in actual.tolist()]"
   ]
  },
  {
   "cell_type": "code",
   "execution_count": 151,
   "metadata": {
    "ExecuteTime": {
     "end_time": "2021-01-15T19:36:21.005669Z",
     "start_time": "2021-01-15T19:36:20.848749Z"
    }
   },
   "outputs": [
    {
     "data": {
      "image/png": "[encoded data removed]",
      "text/plain": [
       "<Figure size 432x288 with 1 Axes>"
      ]
     },
     "metadata": {
      "needs_background": "light"
     },
     "output_type": "display_data"
    }
   ],
   "source": [
    "plt.plot(prediction, color = 'red', label = 'Predicted price')\n",
    "plt.plot(actual, color = 'blue', label = 'Real price')\n",
    "plt.title('Jordan 1 Offwhite Chicago Size 9 prediction (7 days lookback) using LSTM')\n",
    "plt.xlabel('Time')\n",
    "plt.ylabel('Price')\n",
    "plt.legend()\n",
    "plt.show()"
   ]
  },
  {
   "cell_type": "markdown",
   "metadata": {},
   "source": [
    "A three layered GRU model is also built to compare with the LSTM model. And the model will be trained using the training data that was used to train the previous LSTM model."
   ]
  },
  {
   "cell_type": "code",
   "execution_count": 152,
   "metadata": {
    "ExecuteTime": {
     "end_time": "2021-01-15T19:36:29.826794Z",
     "start_time": "2021-01-15T19:36:29.343841Z"
    }
   },
   "outputs": [],
   "source": [
    "model1 = Sequential()\n",
    "\n",
    "model1.add(GRU(units=50, input_dim=7, return_sequences=True))\n",
    "model1.add(Dropout(0.2))\n",
    "\n",
    "model1.add(GRU(units=50, return_sequences = True))\n",
    "model1.add(Dropout(rate = 0.2))\n",
    "\n",
    "model1.add(GRU(units=50, return_sequences=False))\n",
    "model1.add(Dropout(rate=0.2))\n",
    "\n",
    "model1.add(Dense(1))\n",
    "\n",
    "model1.compile(optimizer='adam', loss='mean_squared_error')"
   ]
  },
  {
   "cell_type": "code",
   "execution_count": 153,
   "metadata": {
    "ExecuteTime": {
     "end_time": "2021-01-15T19:36:48.214243Z",
     "start_time": "2021-01-15T19:36:29.877312Z"
    },
    "scrolled": true
   },
   "outputs": [
    {
     "name": "stdout",
     "output_type": "stream",
     "text": [
      "Epoch 1/100\n",
      "13/13 [==============================] - 4s 12ms/step - loss: 0.2469\n",
      "Epoch 2/100\n",
      "13/13 [==============================] - 0s 11ms/step - loss: 0.0325\n",
      "Epoch 3/100\n",
      "13/13 [==============================] - 0s 11ms/step - loss: 0.0210\n",
      "Epoch 4/100\n",
      "13/13 [==============================] - 0s 11ms/step - loss: 0.0156\n",
      "Epoch 5/100\n",
      "13/13 [==============================] - 0s 11ms/step - loss: 0.0137\n",
      "Epoch 6/100\n",
      "13/13 [==============================] - 0s 11ms/step - loss: 0.0100\n",
      "Epoch 7/100\n",
      "13/13 [==============================] - 0s 11ms/step - loss: 0.0107\n",
      "Epoch 8/100\n",
      "13/13 [==============================] - 0s 11ms/step - loss: 0.0104\n",
      "Epoch 9/100\n",
      "13/13 [==============================] - 0s 11ms/step - loss: 0.0076\n",
      "Epoch 10/100\n",
      "13/13 [==============================] - 0s 11ms/step - loss: 0.0076\n",
      "Epoch 11/100\n",
      "13/13 [==============================] - 0s 11ms/step - loss: 0.0073\n",
      "Epoch 12/100\n",
      "13/13 [==============================] - 0s 12ms/step - loss: 0.0074\n",
      "Epoch 13/100\n",
      "13/13 [==============================] - 0s 11ms/step - loss: 0.0063\n",
      "Epoch 14/100\n",
      "13/13 [==============================] - 0s 10ms/step - loss: 0.0065\n",
      "Epoch 15/100\n",
      "13/13 [==============================] - 0s 11ms/step - loss: 0.0073\n",
      "Epoch 16/100\n",
      "13/13 [==============================] - 0s 11ms/step - loss: 0.0073\n",
      "Epoch 17/100\n",
      "13/13 [==============================] - 0s 11ms/step - loss: 0.0059\n",
      "Epoch 18/100\n",
      "13/13 [==============================] - 0s 11ms/step - loss: 0.0063\n",
      "Epoch 19/100\n",
      "13/13 [==============================] - 0s 11ms/step - loss: 0.0058\n",
      "Epoch 20/100\n",
      "13/13 [==============================] - 0s 11ms/step - loss: 0.0052\n",
      "Epoch 21/100\n",
      "13/13 [==============================] - 0s 11ms/step - loss: 0.0060\n",
      "Epoch 22/100\n",
      "13/13 [==============================] - 0s 11ms/step - loss: 0.0064\n",
      "Epoch 23/100\n",
      "13/13 [==============================] - 0s 12ms/step - loss: 0.0056\n",
      "Epoch 24/100\n",
      "13/13 [==============================] - 0s 12ms/step - loss: 0.0063\n",
      "Epoch 25/100\n",
      "13/13 [==============================] - 0s 11ms/step - loss: 0.0047\n",
      "Epoch 26/100\n",
      "13/13 [==============================] - 0s 11ms/step - loss: 0.0058\n",
      "Epoch 27/100\n",
      "13/13 [==============================] - 0s 11ms/step - loss: 0.0055\n",
      "Epoch 28/100\n",
      "13/13 [==============================] - 0s 12ms/step - loss: 0.0055\n",
      "Epoch 29/100\n",
      "13/13 [==============================] - 0s 11ms/step - loss: 0.0045\n",
      "Epoch 30/100\n",
      "13/13 [==============================] - 0s 11ms/step - loss: 0.0042\n",
      "Epoch 31/100\n",
      "13/13 [==============================] - 0s 11ms/step - loss: 0.0046\n",
      "Epoch 32/100\n",
      "13/13 [==============================] - 0s 11ms/step - loss: 0.0067\n",
      "Epoch 33/100\n",
      "13/13 [==============================] - 0s 12ms/step - loss: 0.0053\n",
      "Epoch 34/100\n",
      "13/13 [==============================] - 0s 12ms/step - loss: 0.0042\n",
      "Epoch 35/100\n",
      "13/13 [==============================] - 0s 11ms/step - loss: 0.0048\n",
      "Epoch 36/100\n",
      "13/13 [==============================] - 0s 11ms/step - loss: 0.0037\n",
      "Epoch 37/100\n",
      "13/13 [==============================] - 0s 12ms/step - loss: 0.0039\n",
      "Epoch 38/100\n",
      "13/13 [==============================] - 0s 11ms/step - loss: 0.0045\n",
      "Epoch 39/100\n",
      "13/13 [==============================] - 0s 11ms/step - loss: 0.0041\n",
      "Epoch 40/100\n",
      "13/13 [==============================] - 0s 11ms/step - loss: 0.0038\n",
      "Epoch 41/100\n",
      "13/13 [==============================] - 0s 11ms/step - loss: 0.0047\n",
      "Epoch 42/100\n",
      "13/13 [==============================] - 0s 11ms/step - loss: 0.0045\n",
      "Epoch 43/100\n",
      "13/13 [==============================] - 0s 11ms/step - loss: 0.0035\n",
      "Epoch 44/100\n",
      "13/13 [==============================] - 0s 12ms/step - loss: 0.0043\n",
      "Epoch 45/100\n",
      "13/13 [==============================] - 0s 11ms/step - loss: 0.0038\n",
      "Epoch 46/100\n",
      "13/13 [==============================] - 0s 11ms/step - loss: 0.0039\n",
      "Epoch 47/100\n",
      "13/13 [==============================] - 0s 11ms/step - loss: 0.0039\n",
      "Epoch 48/100\n",
      "13/13 [==============================] - 0s 11ms/step - loss: 0.0039\n",
      "Epoch 49/100\n",
      "13/13 [==============================] - 0s 11ms/step - loss: 0.0033\n",
      "Epoch 50/100\n",
      "13/13 [==============================] - 0s 11ms/step - loss: 0.0034\n",
      "Epoch 51/100\n",
      "13/13 [==============================] - 0s 11ms/step - loss: 0.0030\n",
      "Epoch 52/100\n",
      "13/13 [==============================] - 0s 11ms/step - loss: 0.0039\n",
      "Epoch 53/100\n",
      "13/13 [==============================] - 0s 11ms/step - loss: 0.0036\n",
      "Epoch 54/100\n",
      "13/13 [==============================] - 0s 11ms/step - loss: 0.0037\n",
      "Epoch 55/100\n",
      "13/13 [==============================] - 0s 10ms/step - loss: 0.0036\n",
      "Epoch 56/100\n",
      "13/13 [==============================] - 0s 11ms/step - loss: 0.0032\n",
      "Epoch 57/100\n",
      "13/13 [==============================] - 0s 10ms/step - loss: 0.0043\n",
      "Epoch 58/100\n",
      "13/13 [==============================] - 0s 11ms/step - loss: 0.0034\n",
      "Epoch 59/100\n",
      "13/13 [==============================] - 0s 11ms/step - loss: 0.0033\n",
      "Epoch 60/100\n",
      "13/13 [==============================] - 0s 12ms/step - loss: 0.0026\n",
      "Epoch 61/100\n",
      "13/13 [==============================] - 0s 11ms/step - loss: 0.0033\n",
      "Epoch 62/100\n",
      "13/13 [==============================] - 0s 12ms/step - loss: 0.0030\n",
      "Epoch 63/100\n",
      "13/13 [==============================] - 0s 11ms/step - loss: 0.0034\n",
      "Epoch 64/100\n",
      "13/13 [==============================] - 0s 11ms/step - loss: 0.0033\n",
      "Epoch 65/100\n",
      "13/13 [==============================] - 0s 11ms/step - loss: 0.0032\n",
      "Epoch 66/100\n",
      "13/13 [==============================] - 0s 10ms/step - loss: 0.0025\n",
      "Epoch 67/100\n",
      "13/13 [==============================] - 0s 11ms/step - loss: 0.0032\n",
      "Epoch 68/100\n",
      "13/13 [==============================] - 0s 11ms/step - loss: 0.0025\n",
      "Epoch 69/100\n",
      "13/13 [==============================] - 0s 11ms/step - loss: 0.0024\n",
      "Epoch 70/100\n",
      "13/13 [==============================] - 0s 11ms/step - loss: 0.0027\n",
      "Epoch 71/100\n",
      "13/13 [==============================] - 0s 11ms/step - loss: 0.0027\n",
      "Epoch 72/100\n",
      "13/13 [==============================] - 0s 11ms/step - loss: 0.0029\n",
      "Epoch 73/100\n",
      "13/13 [==============================] - 0s 11ms/step - loss: 0.0040\n",
      "Epoch 74/100\n",
      "13/13 [==============================] - 0s 11ms/step - loss: 0.0026\n",
      "Epoch 75/100\n",
      "13/13 [==============================] - 0s 11ms/step - loss: 0.0037\n",
      "Epoch 76/100\n",
      "13/13 [==============================] - 0s 11ms/step - loss: 0.0026\n",
      "Epoch 77/100\n",
      "13/13 [==============================] - 0s 11ms/step - loss: 0.0025\n",
      "Epoch 78/100\n",
      "13/13 [==============================] - 0s 11ms/step - loss: 0.0036\n",
      "Epoch 79/100\n",
      "13/13 [==============================] - 0s 11ms/step - loss: 0.0029\n",
      "Epoch 80/100\n",
      "13/13 [==============================] - 0s 11ms/step - loss: 0.0030\n",
      "Epoch 81/100\n",
      "13/13 [==============================] - 0s 11ms/step - loss: 0.0032\n",
      "Epoch 82/100\n",
      "13/13 [==============================] - 0s 11ms/step - loss: 0.0025\n",
      "Epoch 83/100\n",
      "13/13 [==============================] - 0s 11ms/step - loss: 0.0030\n",
      "Epoch 84/100\n",
      "13/13 [==============================] - 0s 11ms/step - loss: 0.0024\n",
      "Epoch 85/100\n",
      "13/13 [==============================] - 0s 12ms/step - loss: 0.0024\n",
      "Epoch 86/100\n",
      "13/13 [==============================] - 0s 11ms/step - loss: 0.0024\n",
      "Epoch 87/100\n",
      "13/13 [==============================] - 0s 11ms/step - loss: 0.0026\n",
      "Epoch 88/100\n",
      "13/13 [==============================] - 0s 11ms/step - loss: 0.0035\n",
      "Epoch 89/100\n",
      "13/13 [==============================] - 0s 11ms/step - loss: 0.0035\n",
      "Epoch 90/100\n",
      "13/13 [==============================] - 0s 11ms/step - loss: 0.0029\n",
      "Epoch 91/100\n",
      "13/13 [==============================] - 0s 11ms/step - loss: 0.0029\n",
      "Epoch 92/100\n",
      "13/13 [==============================] - 0s 10ms/step - loss: 0.0026\n",
      "Epoch 93/100\n",
      "13/13 [==============================] - 0s 10ms/step - loss: 0.0025\n",
      "Epoch 94/100\n",
      "13/13 [==============================] - 0s 11ms/step - loss: 0.0023\n",
      "Epoch 95/100\n",
      "13/13 [==============================] - 0s 10ms/step - loss: 0.0029\n",
      "Epoch 96/100\n",
      "13/13 [==============================] - 0s 11ms/step - loss: 0.0024\n",
      "Epoch 97/100\n",
      "13/13 [==============================] - 0s 11ms/step - loss: 0.0020\n",
      "Epoch 98/100\n",
      "13/13 [==============================] - 0s 11ms/step - loss: 0.0032\n",
      "Epoch 99/100\n",
      "13/13 [==============================] - 0s 11ms/step - loss: 0.0031\n",
      "Epoch 100/100\n",
      "13/13 [==============================] - 0s 10ms/step - loss: 0.0026\n"
     ]
    },
    {
     "data": {
      "text/plain": [
       "<tensorflow.python.keras.callbacks.History at 0x7fd240092460>"
      ]
     },
     "execution_count": 153,
     "metadata": {},
     "output_type": "execute_result"
    }
   ],
   "source": [
    "model1.fit(x = trainX, y = trainY, batch_size = 32, epochs = 100)\n"
   ]
  },
  {
   "cell_type": "code",
   "execution_count": 154,
   "metadata": {
    "ExecuteTime": {
     "end_time": "2021-01-15T19:36:51.787807Z",
     "start_time": "2021-01-15T19:36:50.855034Z"
    }
   },
   "outputs": [
    {
     "data": {
      "image/png": "[encoded data removed]",
      "text/plain": [
       "<Figure size 432x288 with 1 Axes>"
      ]
     },
     "metadata": {
      "needs_background": "light"
     },
     "output_type": "display_data"
    }
   ],
   "source": [
    "prediction7 = model1.predict(testX)\n",
    "prediction7 = scaler.inverse_transform(np.array(prediction7).reshape(-1, 1))\n",
    "actual7 = scaler.inverse_transform(np.array(testY).reshape(-1, 1))\n",
    "prediction7 = [x[0] for x in prediction7.tolist()]\n",
    "actual7 = [x[0] for x in actual7.tolist()]\n",
    "plt.plot(prediction7, color = 'red', label = 'Predicted price')\n",
    "plt.plot(actual7, color = 'blue', label = 'Real price')\n",
    "plt.title('Jordan 1 Offwhite Chicago Size 9 prediction (7 days lookback) using GRU')\n",
    "plt.xlabel('Time')\n",
    "plt.ylabel('Price')\n",
    "plt.legend()\n",
    "plt.show()"
   ]
  },
  {
   "cell_type": "code",
   "execution_count": 155,
   "metadata": {
    "ExecuteTime": {
     "end_time": "2021-01-15T19:36:57.399194Z",
     "start_time": "2021-01-15T19:36:57.390267Z"
    }
   },
   "outputs": [
    {
     "data": {
      "text/plain": [
       "31.84776951111469"
      ]
     },
     "execution_count": 155,
     "metadata": {},
     "output_type": "execute_result"
    }
   ],
   "source": [
    "mean_absolute_error(actual7, prediction7)"
   ]
  },
  {
   "cell_type": "code",
   "execution_count": 156,
   "metadata": {
    "ExecuteTime": {
     "end_time": "2021-01-15T19:36:58.685285Z",
     "start_time": "2021-01-15T19:36:58.676446Z"
    }
   },
   "outputs": [
    {
     "data": {
      "text/plain": [
       "104.71165482039304"
      ]
     },
     "execution_count": 156,
     "metadata": {},
     "output_type": "execute_result"
    }
   ],
   "source": [
    "from sklearn.metrics import mean_absolute_error\n",
    "mean_absolute_error(actual, prediction)"
   ]
  },
  {
   "cell_type": "markdown",
   "metadata": {},
   "source": [
    "For the next steps, the principle is the same, except that instead of a seven day lookback, 30day lookback was used instead. "
   ]
  },
  {
   "cell_type": "code",
   "execution_count": 157,
   "metadata": {
    "ExecuteTime": {
     "end_time": "2021-01-15T19:37:58.929256Z",
     "start_time": "2021-01-15T19:37:58.921449Z"
    }
   },
   "outputs": [],
   "source": [
    "look_back = 30\n",
    "trainX30, trainY30 = create_dataset(train, look_back)\n",
    "testX30, testY30 = create_dataset(test, look_back)"
   ]
  },
  {
   "cell_type": "code",
   "execution_count": 158,
   "metadata": {
    "ExecuteTime": {
     "end_time": "2021-01-15T19:37:59.692737Z",
     "start_time": "2021-01-15T19:37:59.686323Z"
    }
   },
   "outputs": [],
   "source": [
    "trainX30 = np.reshape(trainX30, (trainX30.shape[0], 1, trainX30.shape[1]))\n",
    "testX30 = np.reshape(testX30, (testX30.shape[0], 1, testX30.shape[1]))"
   ]
  },
  {
   "cell_type": "code",
   "execution_count": 159,
   "metadata": {
    "ExecuteTime": {
     "end_time": "2021-01-15T19:38:01.266488Z",
     "start_time": "2021-01-15T19:38:00.682678Z"
    }
   },
   "outputs": [],
   "source": [
    "model = Sequential()\n",
    "\n",
    "model.add(LSTM(units=50, input_dim=30, return_sequences=True))\n",
    "model.add(Dropout(0.2))\n",
    "\n",
    "model.add(LSTM(units=50, return_sequences = True))\n",
    "model.add(Dropout(rate = 0.2))\n",
    "\n",
    "model.add(LSTM(units=50, return_sequences=False))\n",
    "model.add(Dropout(rate=0.2))\n",
    "\n",
    "model.add(Dense(1))\n",
    "\n",
    "model.compile(optimizer='adam', loss='mean_squared_error')"
   ]
  },
  {
   "cell_type": "code",
   "execution_count": 160,
   "metadata": {
    "ExecuteTime": {
     "end_time": "2021-01-15T19:38:02.119047Z",
     "start_time": "2021-01-15T19:38:01.608594Z"
    }
   },
   "outputs": [],
   "source": [
    "model1 = Sequential()\n",
    "\n",
    "model1.add(GRU(units=50, input_dim=30, return_sequences=True))\n",
    "model1.add(Dropout(0.2))\n",
    "\n",
    "model1.add(GRU(units=50, return_sequences = True))\n",
    "model1.add(Dropout(rate = 0.2))\n",
    "\n",
    "model1.add(GRU(units=50, return_sequences=False))\n",
    "model1.add(Dropout(rate=0.2))\n",
    "\n",
    "model1.add(Dense(1))\n",
    "\n",
    "model1.compile(optimizer='adam', loss='mean_squared_error')"
   ]
  },
  {
   "cell_type": "code",
   "execution_count": 161,
   "metadata": {
    "ExecuteTime": {
     "end_time": "2021-01-15T19:38:21.821228Z",
     "start_time": "2021-01-15T19:38:02.484167Z"
    },
    "scrolled": true
   },
   "outputs": [
    {
     "name": "stdout",
     "output_type": "stream",
     "text": [
      "Epoch 1/100\n",
      "13/13 [==============================] - 3s 13ms/step - loss: 0.3245\n",
      "Epoch 2/100\n",
      "13/13 [==============================] - 0s 12ms/step - loss: 0.2181\n",
      "Epoch 3/100\n",
      "13/13 [==============================] - 0s 12ms/step - loss: 0.0296\n",
      "Epoch 4/100\n",
      "13/13 [==============================] - 0s 12ms/step - loss: 0.0150\n",
      "Epoch 5/100\n",
      "13/13 [==============================] - 0s 12ms/step - loss: 0.0174\n",
      "Epoch 6/100\n",
      "13/13 [==============================] - 0s 12ms/step - loss: 0.0137\n",
      "Epoch 7/100\n",
      "13/13 [==============================] - 0s 12ms/step - loss: 0.0126\n",
      "Epoch 8/100\n",
      "13/13 [==============================] - 0s 12ms/step - loss: 0.0129\n",
      "Epoch 9/100\n",
      "13/13 [==============================] - 0s 12ms/step - loss: 0.0138\n",
      "Epoch 10/100\n",
      "13/13 [==============================] - 0s 12ms/step - loss: 0.0113\n",
      "Epoch 11/100\n",
      "13/13 [==============================] - 0s 12ms/step - loss: 0.0104\n",
      "Epoch 12/100\n",
      "13/13 [==============================] - 0s 12ms/step - loss: 0.0124\n",
      "Epoch 13/100\n",
      "13/13 [==============================] - 0s 13ms/step - loss: 0.0138\n",
      "Epoch 14/100\n",
      "13/13 [==============================] - 0s 13ms/step - loss: 0.0103\n",
      "Epoch 15/100\n",
      "13/13 [==============================] - 0s 12ms/step - loss: 0.0102\n",
      "Epoch 16/100\n",
      "13/13 [==============================] - 0s 12ms/step - loss: 0.0097\n",
      "Epoch 17/100\n",
      "13/13 [==============================] - 0s 12ms/step - loss: 0.0092\n",
      "Epoch 18/100\n",
      "13/13 [==============================] - 0s 12ms/step - loss: 0.0087\n",
      "Epoch 19/100\n",
      "13/13 [==============================] - 0s 12ms/step - loss: 0.0098\n",
      "Epoch 20/100\n",
      "13/13 [==============================] - 0s 12ms/step - loss: 0.0073\n",
      "Epoch 21/100\n",
      "13/13 [==============================] - 0s 12ms/step - loss: 0.0074\n",
      "Epoch 22/100\n",
      "13/13 [==============================] - 0s 12ms/step - loss: 0.0087\n",
      "Epoch 23/100\n",
      "13/13 [==============================] - 0s 12ms/step - loss: 0.0070\n",
      "Epoch 24/100\n",
      "13/13 [==============================] - 0s 12ms/step - loss: 0.0074\n",
      "Epoch 25/100\n",
      "13/13 [==============================] - 0s 12ms/step - loss: 0.0083\n",
      "Epoch 26/100\n",
      "13/13 [==============================] - 0s 13ms/step - loss: 0.0065\n",
      "Epoch 27/100\n",
      "13/13 [==============================] - 0s 13ms/step - loss: 0.0061\n",
      "Epoch 28/100\n",
      "13/13 [==============================] - 0s 12ms/step - loss: 0.0065\n",
      "Epoch 29/100\n",
      "13/13 [==============================] - 0s 12ms/step - loss: 0.0066\n",
      "Epoch 30/100\n",
      "13/13 [==============================] - 0s 12ms/step - loss: 0.0056\n",
      "Epoch 31/100\n",
      "13/13 [==============================] - 0s 12ms/step - loss: 0.0073\n",
      "Epoch 32/100\n",
      "13/13 [==============================] - 0s 12ms/step - loss: 0.0059\n",
      "Epoch 33/100\n",
      "13/13 [==============================] - 0s 12ms/step - loss: 0.0057\n",
      "Epoch 34/100\n",
      "13/13 [==============================] - 0s 12ms/step - loss: 0.0048\n",
      "Epoch 35/100\n",
      "13/13 [==============================] - 0s 12ms/step - loss: 0.0056\n",
      "Epoch 36/100\n",
      "13/13 [==============================] - 0s 11ms/step - loss: 0.0044\n",
      "Epoch 37/100\n",
      "13/13 [==============================] - 0s 12ms/step - loss: 0.0057\n",
      "Epoch 38/100\n",
      "13/13 [==============================] - 0s 11ms/step - loss: 0.0061\n",
      "Epoch 39/100\n",
      "13/13 [==============================] - 0s 12ms/step - loss: 0.0057\n",
      "Epoch 40/100\n",
      "13/13 [==============================] - 0s 12ms/step - loss: 0.0047\n",
      "Epoch 41/100\n",
      "13/13 [==============================] - 0s 12ms/step - loss: 0.0044\n",
      "Epoch 42/100\n",
      "13/13 [==============================] - 0s 12ms/step - loss: 0.0045\n",
      "Epoch 43/100\n",
      "13/13 [==============================] - 0s 12ms/step - loss: 0.0051\n",
      "Epoch 44/100\n",
      "13/13 [==============================] - 0s 12ms/step - loss: 0.0050\n",
      "Epoch 45/100\n",
      "13/13 [==============================] - 0s 12ms/step - loss: 0.0046\n",
      "Epoch 46/100\n",
      "13/13 [==============================] - 0s 12ms/step - loss: 0.0051\n",
      "Epoch 47/100\n",
      "13/13 [==============================] - 0s 12ms/step - loss: 0.0042\n",
      "Epoch 48/100\n",
      "13/13 [==============================] - 0s 13ms/step - loss: 0.0039\n",
      "Epoch 49/100\n",
      "13/13 [==============================] - 0s 12ms/step - loss: 0.0037\n",
      "Epoch 50/100\n",
      "13/13 [==============================] - 0s 12ms/step - loss: 0.0037\n",
      "Epoch 51/100\n",
      "13/13 [==============================] - 0s 12ms/step - loss: 0.0038\n",
      "Epoch 52/100\n",
      "13/13 [==============================] - 0s 12ms/step - loss: 0.0035\n",
      "Epoch 53/100\n",
      "13/13 [==============================] - 0s 12ms/step - loss: 0.0040\n",
      "Epoch 54/100\n",
      "13/13 [==============================] - 0s 11ms/step - loss: 0.0044\n",
      "Epoch 55/100\n",
      "13/13 [==============================] - 0s 11ms/step - loss: 0.0040\n",
      "Epoch 56/100\n",
      "13/13 [==============================] - 0s 12ms/step - loss: 0.0031\n",
      "Epoch 57/100\n",
      "13/13 [==============================] - 0s 12ms/step - loss: 0.0040\n",
      "Epoch 58/100\n",
      "13/13 [==============================] - 0s 12ms/step - loss: 0.0038\n",
      "Epoch 59/100\n",
      "13/13 [==============================] - 0s 12ms/step - loss: 0.0043\n",
      "Epoch 60/100\n",
      "13/13 [==============================] - 0s 12ms/step - loss: 0.0038\n",
      "Epoch 61/100\n",
      "13/13 [==============================] - 0s 12ms/step - loss: 0.0042\n",
      "Epoch 62/100\n",
      "13/13 [==============================] - 0s 12ms/step - loss: 0.0047\n",
      "Epoch 63/100\n",
      "13/13 [==============================] - 0s 12ms/step - loss: 0.0042\n",
      "Epoch 64/100\n",
      "13/13 [==============================] - 0s 12ms/step - loss: 0.0048\n",
      "Epoch 65/100\n",
      "13/13 [==============================] - 0s 12ms/step - loss: 0.0029\n",
      "Epoch 66/100\n",
      "13/13 [==============================] - 0s 12ms/step - loss: 0.0038\n",
      "Epoch 67/100\n",
      "13/13 [==============================] - 0s 12ms/step - loss: 0.0033\n",
      "Epoch 68/100\n",
      "13/13 [==============================] - 0s 12ms/step - loss: 0.0031\n",
      "Epoch 69/100\n",
      "13/13 [==============================] - 0s 12ms/step - loss: 0.0034\n",
      "Epoch 70/100\n",
      "13/13 [==============================] - 0s 12ms/step - loss: 0.0040\n",
      "Epoch 71/100\n",
      "13/13 [==============================] - 0s 12ms/step - loss: 0.0033\n",
      "Epoch 72/100\n",
      "13/13 [==============================] - 0s 12ms/step - loss: 0.0031\n",
      "Epoch 73/100\n",
      "13/13 [==============================] - 0s 13ms/step - loss: 0.0039\n",
      "Epoch 74/100\n",
      "13/13 [==============================] - 0s 12ms/step - loss: 0.0031\n",
      "Epoch 75/100\n",
      "13/13 [==============================] - 0s 12ms/step - loss: 0.0038\n",
      "Epoch 76/100\n",
      "13/13 [==============================] - 0s 12ms/step - loss: 0.0041\n",
      "Epoch 77/100\n",
      "13/13 [==============================] - 0s 12ms/step - loss: 0.0034\n",
      "Epoch 78/100\n",
      "13/13 [==============================] - 0s 12ms/step - loss: 0.0038\n",
      "Epoch 79/100\n",
      "13/13 [==============================] - 0s 12ms/step - loss: 0.0031\n",
      "Epoch 80/100\n",
      "13/13 [==============================] - 0s 12ms/step - loss: 0.0038\n",
      "Epoch 81/100\n",
      "13/13 [==============================] - 0s 12ms/step - loss: 0.0034\n",
      "Epoch 82/100\n",
      "13/13 [==============================] - 0s 12ms/step - loss: 0.0041\n",
      "Epoch 83/100\n",
      "13/13 [==============================] - 0s 12ms/step - loss: 0.0034\n",
      "Epoch 84/100\n",
      "13/13 [==============================] - 0s 12ms/step - loss: 0.0033\n",
      "Epoch 85/100\n",
      "13/13 [==============================] - 0s 12ms/step - loss: 0.0032\n",
      "Epoch 86/100\n",
      "13/13 [==============================] - 0s 12ms/step - loss: 0.0030\n",
      "Epoch 87/100\n",
      "13/13 [==============================] - 0s 13ms/step - loss: 0.0034\n",
      "Epoch 88/100\n",
      "13/13 [==============================] - 0s 13ms/step - loss: 0.0038\n",
      "Epoch 89/100\n",
      "13/13 [==============================] - 0s 13ms/step - loss: 0.0030\n",
      "Epoch 90/100\n",
      "13/13 [==============================] - 0s 12ms/step - loss: 0.0039\n",
      "Epoch 91/100\n",
      "13/13 [==============================] - 0s 12ms/step - loss: 0.0035\n",
      "Epoch 92/100\n",
      "13/13 [==============================] - 0s 12ms/step - loss: 0.0031\n",
      "Epoch 93/100\n",
      "13/13 [==============================] - 0s 12ms/step - loss: 0.0031\n",
      "Epoch 94/100\n",
      "13/13 [==============================] - 0s 12ms/step - loss: 0.0030\n",
      "Epoch 95/100\n",
      "13/13 [==============================] - 0s 11ms/step - loss: 0.0030\n",
      "Epoch 96/100\n",
      "13/13 [==============================] - 0s 12ms/step - loss: 0.0034\n",
      "Epoch 97/100\n",
      "13/13 [==============================] - 0s 12ms/step - loss: 0.0030\n",
      "Epoch 98/100\n",
      "13/13 [==============================] - 0s 13ms/step - loss: 0.0030\n",
      "Epoch 99/100\n",
      "13/13 [==============================] - 0s 13ms/step - loss: 0.0028\n",
      "Epoch 100/100\n",
      "13/13 [==============================] - 0s 12ms/step - loss: 0.0030\n"
     ]
    },
    {
     "data": {
      "text/plain": [
       "<tensorflow.python.keras.callbacks.History at 0x7fd238a97550>"
      ]
     },
     "execution_count": 161,
     "metadata": {},
     "output_type": "execute_result"
    }
   ],
   "source": [
    "model.fit(x = trainX30, y = trainY30, batch_size = 32, epochs = 100)"
   ]
  },
  {
   "cell_type": "code",
   "execution_count": 162,
   "metadata": {
    "ExecuteTime": {
     "end_time": "2021-01-15T19:38:39.667687Z",
     "start_time": "2021-01-15T19:38:21.825843Z"
    },
    "scrolled": true
   },
   "outputs": [
    {
     "name": "stdout",
     "output_type": "stream",
     "text": [
      "Epoch 1/100\n",
      "13/13 [==============================] - 3s 11ms/step - loss: 0.2030\n",
      "Epoch 2/100\n",
      "13/13 [==============================] - 0s 11ms/step - loss: 0.0420\n",
      "Epoch 3/100\n",
      "13/13 [==============================] - 0s 11ms/step - loss: 0.0188\n",
      "Epoch 4/100\n",
      "13/13 [==============================] - 0s 11ms/step - loss: 0.0170\n",
      "Epoch 5/100\n",
      "13/13 [==============================] - 0s 11ms/step - loss: 0.0125\n",
      "Epoch 6/100\n",
      "13/13 [==============================] - 0s 11ms/step - loss: 0.0155\n",
      "Epoch 7/100\n",
      "13/13 [==============================] - 0s 11ms/step - loss: 0.0142\n",
      "Epoch 8/100\n",
      "13/13 [==============================] - 0s 11ms/step - loss: 0.0137\n",
      "Epoch 9/100\n",
      "13/13 [==============================] - 0s 11ms/step - loss: 0.0124\n",
      "Epoch 10/100\n",
      "13/13 [==============================] - 0s 11ms/step - loss: 0.0113\n",
      "Epoch 11/100\n",
      "13/13 [==============================] - 0s 11ms/step - loss: 0.0104\n",
      "Epoch 12/100\n",
      "13/13 [==============================] - 0s 11ms/step - loss: 0.0100\n",
      "Epoch 13/100\n",
      "13/13 [==============================] - 0s 10ms/step - loss: 0.0107\n",
      "Epoch 14/100\n",
      "13/13 [==============================] - 0s 11ms/step - loss: 0.0087\n",
      "Epoch 15/100\n",
      "13/13 [==============================] - 0s 11ms/step - loss: 0.0083\n",
      "Epoch 16/100\n",
      "13/13 [==============================] - 0s 11ms/step - loss: 0.0095\n",
      "Epoch 17/100\n",
      "13/13 [==============================] - 0s 11ms/step - loss: 0.0080\n",
      "Epoch 18/100\n",
      "13/13 [==============================] - 0s 11ms/step - loss: 0.0070\n",
      "Epoch 19/100\n",
      "13/13 [==============================] - 0s 11ms/step - loss: 0.0088\n",
      "Epoch 20/100\n",
      "13/13 [==============================] - 0s 11ms/step - loss: 0.0072\n",
      "Epoch 21/100\n",
      "13/13 [==============================] - 0s 11ms/step - loss: 0.0062\n",
      "Epoch 22/100\n",
      "13/13 [==============================] - 0s 10ms/step - loss: 0.0079\n",
      "Epoch 23/100\n",
      "13/13 [==============================] - 0s 11ms/step - loss: 0.0072\n",
      "Epoch 24/100\n",
      "13/13 [==============================] - 0s 11ms/step - loss: 0.0071\n",
      "Epoch 25/100\n",
      "13/13 [==============================] - 0s 11ms/step - loss: 0.0058\n",
      "Epoch 26/100\n",
      "13/13 [==============================] - 0s 11ms/step - loss: 0.0067\n",
      "Epoch 27/100\n",
      "13/13 [==============================] - 0s 11ms/step - loss: 0.0064\n",
      "Epoch 28/100\n",
      "13/13 [==============================] - 0s 11ms/step - loss: 0.0052\n",
      "Epoch 29/100\n",
      "13/13 [==============================] - 0s 10ms/step - loss: 0.0061\n",
      "Epoch 30/100\n",
      "13/13 [==============================] - 0s 12ms/step - loss: 0.0064\n",
      "Epoch 31/100\n",
      "13/13 [==============================] - 0s 11ms/step - loss: 0.0060\n",
      "Epoch 32/100\n",
      "13/13 [==============================] - 0s 11ms/step - loss: 0.0056\n",
      "Epoch 33/100\n",
      "13/13 [==============================] - 0s 11ms/step - loss: 0.0061\n",
      "Epoch 34/100\n",
      "13/13 [==============================] - 0s 11ms/step - loss: 0.0047\n",
      "Epoch 35/100\n",
      "13/13 [==============================] - 0s 11ms/step - loss: 0.0062\n",
      "Epoch 36/100\n",
      "13/13 [==============================] - 0s 11ms/step - loss: 0.0050\n",
      "Epoch 37/100\n",
      "13/13 [==============================] - 0s 12ms/step - loss: 0.0060\n",
      "Epoch 38/100\n",
      "13/13 [==============================] - 0s 12ms/step - loss: 0.0061\n",
      "Epoch 39/100\n",
      "13/13 [==============================] - 0s 11ms/step - loss: 0.0058\n",
      "Epoch 40/100\n",
      "13/13 [==============================] - 0s 11ms/step - loss: 0.0061\n",
      "Epoch 41/100\n",
      "13/13 [==============================] - 0s 11ms/step - loss: 0.0057\n",
      "Epoch 42/100\n",
      "13/13 [==============================] - 0s 11ms/step - loss: 0.0050\n",
      "Epoch 43/100\n",
      "13/13 [==============================] - 0s 11ms/step - loss: 0.0047\n",
      "Epoch 44/100\n",
      "13/13 [==============================] - 0s 11ms/step - loss: 0.0052\n",
      "Epoch 45/100\n",
      "13/13 [==============================] - 0s 11ms/step - loss: 0.0050\n",
      "Epoch 46/100\n",
      "13/13 [==============================] - 0s 11ms/step - loss: 0.0045\n",
      "Epoch 47/100\n",
      "13/13 [==============================] - 0s 12ms/step - loss: 0.0046\n",
      "Epoch 48/100\n",
      "13/13 [==============================] - 0s 12ms/step - loss: 0.0062\n",
      "Epoch 49/100\n",
      "13/13 [==============================] - 0s 12ms/step - loss: 0.0080\n",
      "Epoch 50/100\n",
      "13/13 [==============================] - 0s 12ms/step - loss: 0.0052\n",
      "Epoch 51/100\n",
      "13/13 [==============================] - 0s 11ms/step - loss: 0.0039\n",
      "Epoch 52/100\n",
      "13/13 [==============================] - 0s 11ms/step - loss: 0.0041\n",
      "Epoch 53/100\n",
      "13/13 [==============================] - 0s 11ms/step - loss: 0.0045\n",
      "Epoch 54/100\n",
      "13/13 [==============================] - 0s 11ms/step - loss: 0.0046\n",
      "Epoch 55/100\n",
      "13/13 [==============================] - 0s 11ms/step - loss: 0.0052\n",
      "Epoch 56/100\n",
      "13/13 [==============================] - 0s 11ms/step - loss: 0.0046\n",
      "Epoch 57/100\n",
      "13/13 [==============================] - 0s 11ms/step - loss: 0.0044\n",
      "Epoch 58/100\n",
      "13/13 [==============================] - 0s 11ms/step - loss: 0.0043\n",
      "Epoch 59/100\n",
      "13/13 [==============================] - 0s 10ms/step - loss: 0.0051\n",
      "Epoch 60/100\n",
      "13/13 [==============================] - 0s 11ms/step - loss: 0.0031\n",
      "Epoch 61/100\n",
      "13/13 [==============================] - 0s 11ms/step - loss: 0.0044\n",
      "Epoch 62/100\n",
      "13/13 [==============================] - 0s 12ms/step - loss: 0.0043\n",
      "Epoch 63/100\n",
      "13/13 [==============================] - 0s 11ms/step - loss: 0.0041\n",
      "Epoch 64/100\n",
      "13/13 [==============================] - 0s 11ms/step - loss: 0.0043\n",
      "Epoch 65/100\n",
      "13/13 [==============================] - 0s 11ms/step - loss: 0.0035\n",
      "Epoch 66/100\n",
      "13/13 [==============================] - 0s 11ms/step - loss: 0.0041\n",
      "Epoch 67/100\n",
      "13/13 [==============================] - 0s 11ms/step - loss: 0.0032\n",
      "Epoch 68/100\n",
      "13/13 [==============================] - 0s 12ms/step - loss: 0.0049\n",
      "Epoch 69/100\n",
      "13/13 [==============================] - 0s 11ms/step - loss: 0.0032\n",
      "Epoch 70/100\n",
      "13/13 [==============================] - 0s 11ms/step - loss: 0.0040\n",
      "Epoch 71/100\n",
      "13/13 [==============================] - 0s 10ms/step - loss: 0.0042\n",
      "Epoch 72/100\n",
      "13/13 [==============================] - 0s 11ms/step - loss: 0.0044\n",
      "Epoch 73/100\n",
      "13/13 [==============================] - 0s 11ms/step - loss: 0.0040\n",
      "Epoch 74/100\n",
      "13/13 [==============================] - 0s 11ms/step - loss: 0.0036\n",
      "Epoch 75/100\n",
      "13/13 [==============================] - 0s 11ms/step - loss: 0.0030\n",
      "Epoch 76/100\n",
      "13/13 [==============================] - 0s 11ms/step - loss: 0.0038\n",
      "Epoch 77/100\n",
      "13/13 [==============================] - 0s 11ms/step - loss: 0.0037\n",
      "Epoch 78/100\n",
      "13/13 [==============================] - 0s 11ms/step - loss: 0.0040\n",
      "Epoch 79/100\n",
      "13/13 [==============================] - 0s 11ms/step - loss: 0.0042\n",
      "Epoch 80/100\n",
      "13/13 [==============================] - 0s 11ms/step - loss: 0.0032\n",
      "Epoch 81/100\n",
      "13/13 [==============================] - 0s 11ms/step - loss: 0.0035\n",
      "Epoch 82/100\n",
      "13/13 [==============================] - 0s 11ms/step - loss: 0.0034\n",
      "Epoch 83/100\n",
      "13/13 [==============================] - 0s 11ms/step - loss: 0.0039\n",
      "Epoch 84/100\n",
      "13/13 [==============================] - 0s 11ms/step - loss: 0.0036\n",
      "Epoch 85/100\n",
      "13/13 [==============================] - 0s 11ms/step - loss: 0.0034\n",
      "Epoch 86/100\n",
      "13/13 [==============================] - 0s 11ms/step - loss: 0.0030\n",
      "Epoch 87/100\n",
      "13/13 [==============================] - 0s 11ms/step - loss: 0.0033\n",
      "Epoch 88/100\n",
      "13/13 [==============================] - 0s 11ms/step - loss: 0.0028\n",
      "Epoch 89/100\n",
      "13/13 [==============================] - 0s 11ms/step - loss: 0.0029\n",
      "Epoch 90/100\n",
      "13/13 [==============================] - 0s 11ms/step - loss: 0.0031\n",
      "Epoch 91/100\n",
      "13/13 [==============================] - 0s 12ms/step - loss: 0.0032\n",
      "Epoch 92/100\n",
      "13/13 [==============================] - 0s 11ms/step - loss: 0.0031\n",
      "Epoch 93/100\n",
      "13/13 [==============================] - 0s 11ms/step - loss: 0.0027\n",
      "Epoch 94/100\n",
      "13/13 [==============================] - 0s 12ms/step - loss: 0.0032\n",
      "Epoch 95/100\n",
      "13/13 [==============================] - 0s 11ms/step - loss: 0.0048\n",
      "Epoch 96/100\n",
      "13/13 [==============================] - 0s 11ms/step - loss: 0.0039\n",
      "Epoch 97/100\n",
      "13/13 [==============================] - 0s 11ms/step - loss: 0.0037\n",
      "Epoch 98/100\n",
      "13/13 [==============================] - 0s 11ms/step - loss: 0.0049\n",
      "Epoch 99/100\n",
      "13/13 [==============================] - 0s 11ms/step - loss: 0.0028\n",
      "Epoch 100/100\n",
      "13/13 [==============================] - 0s 12ms/step - loss: 0.0034\n"
     ]
    },
    {
     "data": {
      "text/plain": [
       "<tensorflow.python.keras.callbacks.History at 0x7fd23814d340>"
      ]
     },
     "execution_count": 162,
     "metadata": {},
     "output_type": "execute_result"
    }
   ],
   "source": [
    "model1.fit(x = trainX30, y = trainY30, batch_size = 32, epochs = 100)"
   ]
  },
  {
   "cell_type": "code",
   "execution_count": 170,
   "metadata": {
    "ExecuteTime": {
     "end_time": "2021-01-15T19:40:56.244752Z",
     "start_time": "2021-01-15T19:40:56.015323Z"
    }
   },
   "outputs": [
    {
     "data": {
      "image/png": "[encoded data removed]",
      "text/plain": [
       "<Figure size 432x288 with 1 Axes>"
      ]
     },
     "metadata": {
      "needs_background": "light"
     },
     "output_type": "display_data"
    }
   ],
   "source": [
    "prediction30 = model.predict(testX30)\n",
    "prediction30 = scaler.inverse_transform(np.array(prediction30).reshape(-1, 1))\n",
    "actual30 = scaler.inverse_transform(np.array(testY30).reshape(-1, 1))\n",
    "prediction30 = [x[0] for x in prediction30.tolist()]\n",
    "actual30 = [x[0] for x in actual30.tolist()]\n",
    "\n",
    "plt.plot(prediction30, color = 'red', label = 'Predicted price')\n",
    "plt.plot(actual30, color = 'blue', label = 'Real price')\n",
    "plt.title('Jordan 1 Offwhite Chicago Size 9 prediction (30 days lookback) using LSTM')\n",
    "plt.xlabel('Time')\n",
    "plt.ylabel('Price')\n",
    "plt.legend()\n",
    "plt.show()"
   ]
  },
  {
   "cell_type": "code",
   "execution_count": 171,
   "metadata": {
    "ExecuteTime": {
     "end_time": "2021-01-15T19:41:30.217487Z",
     "start_time": "2021-01-15T19:41:29.993170Z"
    }
   },
   "outputs": [
    {
     "data": {
      "image/png": "[encoded data removed]",
      "text/plain": [
       "<Figure size 432x288 with 1 Axes>"
      ]
     },
     "metadata": {
      "needs_background": "light"
     },
     "output_type": "display_data"
    }
   ],
   "source": [
    "prediction301 = model1.predict(testX30)\n",
    "prediction301 = scaler.inverse_transform(np.array(prediction301).reshape(-1, 1))\n",
    "actual301 = scaler.inverse_transform(np.array(testY30).reshape(-1, 1))\n",
    "prediction301 = [x[0] for x in prediction301.tolist()]\n",
    "actual301 = [x[0] for x in actual301.tolist()]\n",
    "\n",
    "plt.plot(prediction301, color = 'red', label = 'Predicted price')\n",
    "plt.plot(actual301, color = 'blue', label = 'Real price')\n",
    "plt.title('Jordan 1 Offwhite Chicago Size 9 prediction (30 days lookback) using GRU')\n",
    "plt.xlabel('Time')\n",
    "plt.ylabel('Price')\n",
    "plt.legend()\n",
    "plt.show()"
   ]
  },
  {
   "cell_type": "code",
   "execution_count": 167,
   "metadata": {
    "ExecuteTime": {
     "end_time": "2021-01-15T19:38:56.588291Z",
     "start_time": "2021-01-15T19:38:56.579485Z"
    }
   },
   "outputs": [
    {
     "data": {
      "text/plain": [
       "88.42623983847129"
      ]
     },
     "execution_count": 167,
     "metadata": {},
     "output_type": "execute_result"
    }
   ],
   "source": [
    "mean_absolute_error(actual30, prediction30)"
   ]
  },
  {
   "cell_type": "code",
   "execution_count": 168,
   "metadata": {
    "ExecuteTime": {
     "end_time": "2021-01-15T19:38:57.134431Z",
     "start_time": "2021-01-15T19:38:57.125587Z"
    }
   },
   "outputs": [
    {
     "data": {
      "text/plain": [
       "24.36672561233108"
      ]
     },
     "execution_count": 168,
     "metadata": {},
     "output_type": "execute_result"
    }
   ],
   "source": [
    "mean_absolute_error(actual301, prediction301)"
   ]
  }
 ],
 "metadata": {
  "kernelspec": {
   "display_name": "Python 3",
   "language": "python",
   "name": "python3"
  },
  "language_info": {
   "codemirror_mode": {
    "name": "ipython",
    "version": 3
   },
   "file_extension": ".py",
   "mimetype": "text/x-python",
   "name": "python",
   "nbconvert_exporter": "python",
   "pygments_lexer": "ipython3",
   "version": "3.7.4"
  },
  "toc": {
   "base_numbering": 1,
   "nav_menu": {},
   "number_sections": true,
   "sideBar": true,
   "skip_h1_title": false,
   "title_cell": "Table of Contents",
   "title_sidebar": "Contents",
   "toc_cell": false,
   "toc_position": {},
   "toc_section_display": true,
   "toc_window_display": false
  }
 },
 "nbformat": 4,
 "nbformat_minor": 2
}
